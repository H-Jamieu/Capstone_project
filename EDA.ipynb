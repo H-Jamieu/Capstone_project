{
 "cells": [
  {
   "cell_type": "code",
   "execution_count": 1,
   "id": "4f0c5bff",
   "metadata": {},
   "outputs": [],
   "source": [
    "import pandas as pd\n",
    "import os\n",
    "import matplotlib.pyplot as plt\n",
    "import numpy as np"
   ]
  },
  {
   "cell_type": "code",
   "execution_count": 2,
   "id": "e371fe9a",
   "metadata": {},
   "outputs": [],
   "source": [
    "base_dir = 'Data/ml-25m/'\n",
    "df_genomes = pd.read_csv(base_dir+'genome-scores.csv')\n",
    "df_ratings = pd.read_csv(base_dir+'ratings.csv')"
   ]
  },
  {
   "cell_type": "markdown",
   "id": "2b59c44f",
   "metadata": {},
   "source": [
    "Things to analyse:\n",
    "1. Which movie comes after certain time?\n",
    "\n",
    "    <p>Movies could be released from a certain time, if we split ratings simply by time some movies may not been released at that time. One possibile problem is that if we cut at a time, for ecample 1 Jan 2019, movies released after that time will not be recorded in the data base.</p>\n",
    " \n",
    "2. Distributions of times of reviews by movie.\n",
    "\n",
    "    <p>Each movie has different release times which means we could not have a golbal timestamp to cut the data since we could possibile lost import rating data of some movies and overweight sone older movies.</p>\n",
    " \n",
    "3. Conclusion: Although it may seems better to cut by user and movies. Randomly select some movies of some user to test the effect of recommender sysrtem.\n",
    "    \n",
    "    <p>Releastic problem: we always need to find some connections between user and movie in real applications.</p>\n",
    "   "
   ]
  },
  {
   "cell_type": "code",
   "execution_count": 3,
   "id": "675ebd07",
   "metadata": {},
   "outputs": [
    {
     "data": {
      "text/html": [
       "<div>\n",
       "<style scoped>\n",
       "    .dataframe tbody tr th:only-of-type {\n",
       "        vertical-align: middle;\n",
       "    }\n",
       "\n",
       "    .dataframe tbody tr th {\n",
       "        vertical-align: top;\n",
       "    }\n",
       "\n",
       "    .dataframe thead th {\n",
       "        text-align: right;\n",
       "    }\n",
       "</style>\n",
       "<table border=\"1\" class=\"dataframe\">\n",
       "  <thead>\n",
       "    <tr style=\"text-align: right;\">\n",
       "      <th></th>\n",
       "      <th>userId</th>\n",
       "      <th>movieId</th>\n",
       "      <th>rating</th>\n",
       "      <th>timestamp</th>\n",
       "    </tr>\n",
       "  </thead>\n",
       "  <tbody>\n",
       "    <tr>\n",
       "      <th>0</th>\n",
       "      <td>1</td>\n",
       "      <td>296</td>\n",
       "      <td>5.0</td>\n",
       "      <td>1147880044</td>\n",
       "    </tr>\n",
       "    <tr>\n",
       "      <th>1</th>\n",
       "      <td>1</td>\n",
       "      <td>306</td>\n",
       "      <td>3.5</td>\n",
       "      <td>1147868817</td>\n",
       "    </tr>\n",
       "    <tr>\n",
       "      <th>2</th>\n",
       "      <td>1</td>\n",
       "      <td>307</td>\n",
       "      <td>5.0</td>\n",
       "      <td>1147868828</td>\n",
       "    </tr>\n",
       "    <tr>\n",
       "      <th>3</th>\n",
       "      <td>1</td>\n",
       "      <td>665</td>\n",
       "      <td>5.0</td>\n",
       "      <td>1147878820</td>\n",
       "    </tr>\n",
       "    <tr>\n",
       "      <th>4</th>\n",
       "      <td>1</td>\n",
       "      <td>899</td>\n",
       "      <td>3.5</td>\n",
       "      <td>1147868510</td>\n",
       "    </tr>\n",
       "  </tbody>\n",
       "</table>\n",
       "</div>"
      ],
      "text/plain": [
       "   userId  movieId  rating   timestamp\n",
       "0       1      296     5.0  1147880044\n",
       "1       1      306     3.5  1147868817\n",
       "2       1      307     5.0  1147868828\n",
       "3       1      665     5.0  1147878820\n",
       "4       1      899     3.5  1147868510"
      ]
     },
     "execution_count": 3,
     "metadata": {},
     "output_type": "execute_result"
    }
   ],
   "source": [
    "df_ratings.head()"
   ]
  },
  {
   "cell_type": "code",
   "execution_count": 140,
   "id": "71177319",
   "metadata": {},
   "outputs": [
    {
     "name": "stdout",
     "output_type": "stream",
     "text": [
      "25000095\n"
     ]
    }
   ],
   "source": [
    "print(len(df_ratings))"
   ]
  },
  {
   "cell_type": "code",
   "execution_count": 5,
   "id": "aa7a3215",
   "metadata": {},
   "outputs": [],
   "source": [
    "rate_by_user = df_ratings['userId'].value_counts()"
   ]
  },
  {
   "cell_type": "code",
   "execution_count": 31,
   "id": "42041a47",
   "metadata": {},
   "outputs": [
    {
     "name": "stdout",
     "output_type": "stream",
     "text": [
      "Minium rating number is 20. Maximum rating number is 32202\n"
     ]
    }
   ],
   "source": [
    "print('Minium rating number is '+str(rate_by_user.min())+'. Maximum rating number is '+str(rate_by_user.max()))"
   ]
  },
  {
   "cell_type": "code",
   "execution_count": 33,
   "id": "a2c11f01",
   "metadata": {},
   "outputs": [
    {
     "name": "stdout",
     "output_type": "stream",
     "text": [
      "Mean rating number is 153.80793153727367. Medium rating number is 71.0\n"
     ]
    }
   ],
   "source": [
    "print('Mean rating number is '+str(rate_by_user.mean())+'. Medium rating number is '+str(rate_by_user.median()))"
   ]
  },
  {
   "cell_type": "code",
   "execution_count": 35,
   "id": "2a5db0ca",
   "metadata": {},
   "outputs": [
    {
     "data": {
      "image/png": "[encoded data removed]",
      "text/plain": [
       "<Figure size 432x288 with 1 Axes>"
      ]
     },
     "metadata": {
      "needs_background": "light"
     },
     "output_type": "display_data"
    }
   ],
   "source": [
    "def plot_loghist(x, bins):\n",
    "    hist, bins = np.histogram(x, bins=bins)\n",
    "    logbins = np.logspace(np.log10(bins[0]),np.log10(bins[-1]),len(bins))\n",
    "    plt.hist(x, bins=logbins)\n",
    "    plt.xscale('log')\n",
    "\n",
    "plot_loghist(rate_by_user, 100)\n",
    "plt.show()"
   ]
  },
  {
   "cell_type": "code",
   "execution_count": 4,
   "id": "847e2a7b",
   "metadata": {},
   "outputs": [],
   "source": [
    "rate_by_movie = df_ratings['movieId'].value_counts()"
   ]
  },
  {
   "cell_type": "code",
   "execution_count": 10,
   "id": "ad856113",
   "metadata": {},
   "outputs": [],
   "source": [
    "def printStats(df):\n",
    "    dmin = df.min()\n",
    "    dmax = df.max()\n",
    "    dmean = df.mean()\n",
    "    dmedian = df.median()\n",
    "    print('Minium rating number is '+str(dmin)+'. Maximum rating number is '+str(dmax))\n",
    "    print('Mean rating number is '+str(dmean)+'. Medium rating number is '+str(dmedian))"
   ]
  },
  {
   "cell_type": "code",
   "execution_count": 37,
   "id": "c5d0b3d8",
   "metadata": {},
   "outputs": [
    {
     "name": "stdout",
     "output_type": "stream",
     "text": [
      "Minium rating number is 1. Maximum rating number is 81491\n"
     ]
    }
   ],
   "source": [
    "print('Minium rating number is '+str(rate_by_movie.min())+'. Maximum rating number is '+str(rate_by_movie.max()))"
   ]
  },
  {
   "cell_type": "code",
   "execution_count": 38,
   "id": "30d8e6ff",
   "metadata": {},
   "outputs": [
    {
     "name": "stdout",
     "output_type": "stream",
     "text": [
      "Mean rating number is 423.3931444442563. Medium rating number is 6.0\n"
     ]
    }
   ],
   "source": [
    "print('Mean rating number is '+str(rate_by_movie.mean())+'. Medium rating number is '+str(rate_by_movie.median()))"
   ]
  },
  {
   "cell_type": "code",
   "execution_count": 39,
   "id": "44cb9127",
   "metadata": {},
   "outputs": [
    {
     "data": {
      "image/png": "[encoded data removed]",
      "text/plain": [
       "<Figure size 432x288 with 1 Axes>"
      ]
     },
     "metadata": {
      "needs_background": "light"
     },
     "output_type": "display_data"
    }
   ],
   "source": [
    "plt.hist(rate_by_movie,100)\n",
    "plt.show()"
   ]
  },
  {
   "cell_type": "code",
   "execution_count": 43,
   "id": "7e2c2343",
   "metadata": {},
   "outputs": [
    {
     "data": {
      "image/png": "[encoded data removed]",
      "text/plain": [
       "<Figure size 432x288 with 1 Axes>"
      ]
     },
     "metadata": {
      "needs_background": "light"
     },
     "output_type": "display_data"
    }
   ],
   "source": [
    "plot_loghist(rate_by_movie,100)"
   ]
  },
  {
   "cell_type": "code",
   "execution_count": 41,
   "id": "b2b12d5b",
   "metadata": {},
   "outputs": [
    {
     "data": {
      "text/plain": [
       "356       81491\n",
       "318       81482\n",
       "296       79672\n",
       "593       74127\n",
       "2571      72674\n",
       "          ...  \n",
       "142782        1\n",
       "63141         1\n",
       "135021        1\n",
       "206712        1\n",
       "190761        1\n",
       "Name: movieId, Length: 59047, dtype: int64"
      ]
     },
     "execution_count": 41,
     "metadata": {},
     "output_type": "execute_result"
    }
   ],
   "source": [
    "rate_by_movie"
   ]
  },
  {
   "cell_type": "markdown",
   "id": "e82a0099",
   "metadata": {},
   "source": [
    "Only with ratings >5, 8:2 split is applicable. We still need to check if some users were dropped due to this procedure"
   ]
  },
  {
   "cell_type": "code",
   "execution_count": 6,
   "id": "c426d04f",
   "metadata": {},
   "outputs": [
    {
     "name": "stdout",
     "output_type": "stream",
     "text": [
      "32720\n"
     ]
    }
   ],
   "source": [
    "long_ratings = rate_by_movie[rate_by_movie>=5]\n",
    "print(len(long_ratings))"
   ]
  },
  {
   "cell_type": "markdown",
   "id": "749bf053",
   "metadata": {},
   "source": [
    "Near 27000 movies were filtered. At most 140000 ratings lost, that's about 5% of orginal data."
   ]
  },
  {
   "cell_type": "code",
   "execution_count": 46,
   "id": "08589d5b",
   "metadata": {},
   "outputs": [
    {
     "data": {
      "image/png": "[encoded data removed]",
      "text/plain": [
       "<Figure size 432x288 with 1 Axes>"
      ]
     },
     "metadata": {
      "needs_background": "light"
     },
     "output_type": "display_data"
    }
   ],
   "source": [
    "plot_loghist(long_ratings,100)"
   ]
  },
  {
   "cell_type": "code",
   "execution_count": 7,
   "id": "15698230",
   "metadata": {},
   "outputs": [
    {
     "name": "stdout",
     "output_type": "stream",
     "text": [
      "32720\n"
     ]
    }
   ],
   "source": [
    "filtered_movies = long_ratings.index.values.tolist()\n",
    "print(len(filtered_movies))"
   ]
  },
  {
   "cell_type": "code",
   "execution_count": 8,
   "id": "77929490",
   "metadata": {},
   "outputs": [],
   "source": [
    "ratings_filtered = df_ratings[df_ratings['movieId'].isin(filtered_movies)]"
   ]
  },
  {
   "cell_type": "markdown",
   "id": "3bef7236",
   "metadata": {},
   "source": [
    "Only 54225 ratings changed."
   ]
  },
  {
   "cell_type": "code",
   "execution_count": 141,
   "id": "54144472",
   "metadata": {},
   "outputs": [
    {
     "name": "stdout",
     "output_type": "stream",
     "text": [
      "54225\n"
     ]
    }
   ],
   "source": [
    "print(len(df_ratings)-len(ratings_filtered))"
   ]
  },
  {
   "cell_type": "markdown",
   "id": "65612f3a",
   "metadata": {},
   "source": [
    "As observed, lost is not significant"
   ]
  },
  {
   "cell_type": "code",
   "execution_count": 11,
   "id": "5c17e078",
   "metadata": {},
   "outputs": [
    {
     "name": "stdout",
     "output_type": "stream",
     "text": [
      "162541\n",
      "Minium rating number is 11. Maximum rating number is 22348\n",
      "Mean rating number is 153.47432340148023. Medium rating number is 71.0\n"
     ]
    }
   ],
   "source": [
    "rate_by_userf = ratings_filtered['userId'].value_counts()\n",
    "print(len(rate_by_userf))\n",
    "printStats(rate_by_userf)"
   ]
  },
  {
   "cell_type": "code",
   "execution_count": 60,
   "id": "a1e490ab",
   "metadata": {},
   "outputs": [
    {
     "data": {
      "image/png": "[encoded data removed]",
      "text/plain": [
       "<Figure size 432x288 with 1 Axes>"
      ]
     },
     "metadata": {
      "needs_background": "light"
     },
     "output_type": "display_data"
    }
   ],
   "source": [
    "plot_loghist(rate_by_userf,100)"
   ]
  },
  {
   "cell_type": "code",
   "execution_count": 12,
   "id": "3174ff87",
   "metadata": {},
   "outputs": [],
   "source": [
    "ratings_filtered.to_csv(base_dir+'rating_filtered.csv')"
   ]
  },
  {
   "cell_type": "code",
   "execution_count": 13,
   "id": "e3f19bc6",
   "metadata": {},
   "outputs": [
    {
     "data": {
      "text/html": [
       "<div>\n",
       "<style scoped>\n",
       "    .dataframe tbody tr th:only-of-type {\n",
       "        vertical-align: middle;\n",
       "    }\n",
       "\n",
       "    .dataframe tbody tr th {\n",
       "        vertical-align: top;\n",
       "    }\n",
       "\n",
       "    .dataframe thead th {\n",
       "        text-align: right;\n",
       "    }\n",
       "</style>\n",
       "<table border=\"1\" class=\"dataframe\">\n",
       "  <thead>\n",
       "    <tr style=\"text-align: right;\">\n",
       "      <th></th>\n",
       "      <th>userId</th>\n",
       "      <th>movieId</th>\n",
       "      <th>rating</th>\n",
       "      <th>timestamp</th>\n",
       "    </tr>\n",
       "  </thead>\n",
       "  <tbody>\n",
       "    <tr>\n",
       "      <th>0</th>\n",
       "      <td>1</td>\n",
       "      <td>296</td>\n",
       "      <td>5.0</td>\n",
       "      <td>1147880044</td>\n",
       "    </tr>\n",
       "    <tr>\n",
       "      <th>1</th>\n",
       "      <td>1</td>\n",
       "      <td>306</td>\n",
       "      <td>3.5</td>\n",
       "      <td>1147868817</td>\n",
       "    </tr>\n",
       "    <tr>\n",
       "      <th>2</th>\n",
       "      <td>1</td>\n",
       "      <td>307</td>\n",
       "      <td>5.0</td>\n",
       "      <td>1147868828</td>\n",
       "    </tr>\n",
       "    <tr>\n",
       "      <th>3</th>\n",
       "      <td>1</td>\n",
       "      <td>665</td>\n",
       "      <td>5.0</td>\n",
       "      <td>1147878820</td>\n",
       "    </tr>\n",
       "    <tr>\n",
       "      <th>4</th>\n",
       "      <td>1</td>\n",
       "      <td>899</td>\n",
       "      <td>3.5</td>\n",
       "      <td>1147868510</td>\n",
       "    </tr>\n",
       "  </tbody>\n",
       "</table>\n",
       "</div>"
      ],
      "text/plain": [
       "   userId  movieId  rating   timestamp\n",
       "0       1      296     5.0  1147880044\n",
       "1       1      306     3.5  1147868817\n",
       "2       1      307     5.0  1147868828\n",
       "3       1      665     5.0  1147878820\n",
       "4       1      899     3.5  1147868510"
      ]
     },
     "execution_count": 13,
     "metadata": {},
     "output_type": "execute_result"
    }
   ],
   "source": [
    "ratings_filtered.head()"
   ]
  },
  {
   "cell_type": "markdown",
   "id": "c8e63807",
   "metadata": {},
   "source": [
    "Plot time distribution of user ratings"
   ]
  },
  {
   "cell_type": "code",
   "execution_count": 64,
   "id": "49ec7209",
   "metadata": {},
   "outputs": [
    {
     "data": {
      "image/png": "[encoded data removed]",
      "text/plain": [
       "<Figure size 432x288 with 1 Axes>"
      ]
     },
     "metadata": {
      "needs_background": "light"
     },
     "output_type": "display_data"
    }
   ],
   "source": [
    "plt.hist(ratings_filtered['timestamp'],100)\n",
    "plt.show()"
   ]
  },
  {
   "cell_type": "markdown",
   "id": "92e8e290",
   "metadata": {},
   "source": [
    "Group user by time stamp then get median of each user and extract a subset of the dataset."
   ]
  },
  {
   "cell_type": "code",
   "execution_count": 68,
   "id": "bf57cc20",
   "metadata": {},
   "outputs": [
    {
     "name": "stdout",
     "output_type": "stream",
     "text": [
      "Minium rating number is 789652009. Maximum rating number is 1574327703\n",
      "Mean rating number is 1215601443.12155. Medium rating number is 1198868375.0\n"
     ]
    }
   ],
   "source": [
    "printStats(df_ratings['timestamp'])"
   ]
  },
  {
   "cell_type": "code",
   "execution_count": 14,
   "id": "e0140baf",
   "metadata": {},
   "outputs": [],
   "source": [
    "from datetime import datetime\n",
    "def convertTime(ts):\n",
    "    print(datetime.utcfromtimestamp(ts).strftime('%Y-%m-%d %H:%M:%S'))"
   ]
  },
  {
   "cell_type": "markdown",
   "id": "1c324ca6",
   "metadata": {},
   "source": [
    "Earlyest, median and latest rating time"
   ]
  },
  {
   "cell_type": "code",
   "execution_count": 71,
   "id": "4d8c9a4e",
   "metadata": {},
   "outputs": [
    {
     "name": "stdout",
     "output_type": "stream",
     "text": [
      "2007-12-28 18:59:35\n"
     ]
    }
   ],
   "source": [
    "convertTime(1198868375)"
   ]
  },
  {
   "cell_type": "code",
   "execution_count": 72,
   "id": "2616e4a2",
   "metadata": {},
   "outputs": [
    {
     "name": "stdout",
     "output_type": "stream",
     "text": [
      "2019-11-21 09:15:03\n"
     ]
    }
   ],
   "source": [
    "convertTime(1574327703)"
   ]
  },
  {
   "cell_type": "code",
   "execution_count": 73,
   "id": "b800902c",
   "metadata": {},
   "outputs": [
    {
     "name": "stdout",
     "output_type": "stream",
     "text": [
      "1995-01-09 11:46:49\n"
     ]
    }
   ],
   "source": [
    "convertTime(789652009)"
   ]
  },
  {
   "cell_type": "markdown",
   "id": "43aa0ee2",
   "metadata": {},
   "source": [
    "Plan: split rating by each user, apply it to 80% quantile by rating time\n",
    "Problem: some movies may not present in user rating, since they are presented at last 20% time."
   ]
  },
  {
   "cell_type": "code",
   "execution_count": 9,
   "id": "88509f89",
   "metadata": {},
   "outputs": [],
   "source": [
    "qTest = ratings_filtered[['userId','timestamp']].groupby('userId').quantile(0.8)"
   ]
  },
  {
   "cell_type": "code",
   "execution_count": 96,
   "id": "0f144dc8",
   "metadata": {},
   "outputs": [
    {
     "name": "stdout",
     "output_type": "stream",
     "text": [
      "           timestamp\n",
      "userId              \n",
      "1       1.147879e+09\n",
      "2       1.141417e+09\n",
      "3       1.566090e+09\n",
      "4       1.573943e+09\n",
      "5       8.586276e+08\n",
      "...              ...\n",
      "162537  1.047172e+09\n",
      "162538  1.438784e+09\n",
      "162539  9.951506e+08\n",
      "162540  1.248862e+09\n",
      "162541  1.240953e+09\n",
      "\n",
      "[162541 rows x 1 columns]\n"
     ]
    }
   ],
   "source": [
    "print(qTest.loc[qTest['timestamp']>1000000])"
   ]
  },
  {
   "cell_type": "code",
   "execution_count": 10,
   "id": "031ce94b",
   "metadata": {},
   "outputs": [],
   "source": [
    "def splitByQuantile(df,quantile,ctr):\n",
    "    startIdx = 1\n",
    "    idxTrain = []\n",
    "    idxTest = []\n",
    "    for idx, udata in df.iterrows():\n",
    "        # Assume rating data is well sorted\n",
    "        if udata['userId'] != startIdx:\n",
    "            startIdx = udata['userId']\n",
    "        if udata[ctr] >= quantile[ctr][startIdx]:\n",
    "            idxTest.append(idx)\n",
    "        else:\n",
    "            idxTrain.append(idx)\n",
    "    return idxTrain, idxTest"
   ]
  },
  {
   "cell_type": "code",
   "execution_count": 11,
   "id": "e90b2a57",
   "metadata": {},
   "outputs": [],
   "source": [
    "trainIndexes, testIndexes = splitByQuantile(ratings_filtered, qTest, 'timestamp')"
   ]
  },
  {
   "cell_type": "code",
   "execution_count": 116,
   "id": "f9b87eec",
   "metadata": {},
   "outputs": [
    {
     "name": "stdout",
     "output_type": "stream",
     "text": [
      "<class 'list'>\n"
     ]
    }
   ],
   "source": [
    "print(type(testIndexes)"
   ]
  },
  {
   "cell_type": "code",
   "execution_count": 13,
   "id": "c26381a2",
   "metadata": {},
   "outputs": [],
   "source": [
    "def getDataByIdx(df,idxList):\n",
    "    return(df.loc[idxList])"
   ]
  },
  {
   "cell_type": "code",
   "execution_count": 14,
   "id": "f8b95a88",
   "metadata": {},
   "outputs": [],
   "source": [
    "train_set = getDataByIdx(ratings_filtered, trainIndexes)\n",
    "test_set = getDataByIdx(ratings_filtered, testIndexes)"
   ]
  },
  {
   "cell_type": "markdown",
   "id": "dc617109",
   "metadata": {},
   "source": [
    "Goal: sample dataset by randomusers."
   ]
  },
  {
   "cell_type": "code",
   "execution_count": 20,
   "id": "83cf8e65",
   "metadata": {},
   "outputs": [
    {
     "data": {
      "text/html": [
       "<div>\n",
       "<style scoped>\n",
       "    .dataframe tbody tr th:only-of-type {\n",
       "        vertical-align: middle;\n",
       "    }\n",
       "\n",
       "    .dataframe tbody tr th {\n",
       "        vertical-align: top;\n",
       "    }\n",
       "\n",
       "    .dataframe thead th {\n",
       "        text-align: right;\n",
       "    }\n",
       "</style>\n",
       "<table border=\"1\" class=\"dataframe\">\n",
       "  <thead>\n",
       "    <tr style=\"text-align: right;\">\n",
       "      <th></th>\n",
       "      <th>userId</th>\n",
       "      <th>movieId</th>\n",
       "      <th>rating</th>\n",
       "      <th>timestamp</th>\n",
       "    </tr>\n",
       "  </thead>\n",
       "  <tbody>\n",
       "    <tr>\n",
       "      <th>1</th>\n",
       "      <td>1</td>\n",
       "      <td>306</td>\n",
       "      <td>3.5</td>\n",
       "      <td>1147868817</td>\n",
       "    </tr>\n",
       "    <tr>\n",
       "      <th>2</th>\n",
       "      <td>1</td>\n",
       "      <td>307</td>\n",
       "      <td>5.0</td>\n",
       "      <td>1147868828</td>\n",
       "    </tr>\n",
       "    <tr>\n",
       "      <th>4</th>\n",
       "      <td>1</td>\n",
       "      <td>899</td>\n",
       "      <td>3.5</td>\n",
       "      <td>1147868510</td>\n",
       "    </tr>\n",
       "    <tr>\n",
       "      <th>5</th>\n",
       "      <td>1</td>\n",
       "      <td>1088</td>\n",
       "      <td>4.0</td>\n",
       "      <td>1147868495</td>\n",
       "    </tr>\n",
       "    <tr>\n",
       "      <th>6</th>\n",
       "      <td>1</td>\n",
       "      <td>1175</td>\n",
       "      <td>3.5</td>\n",
       "      <td>1147868826</td>\n",
       "    </tr>\n",
       "  </tbody>\n",
       "</table>\n",
       "</div>"
      ],
      "text/plain": [
       "   userId  movieId  rating   timestamp\n",
       "1       1      306     3.5  1147868817\n",
       "2       1      307     5.0  1147868828\n",
       "4       1      899     3.5  1147868510\n",
       "5       1     1088     4.0  1147868495\n",
       "6       1     1175     3.5  1147868826"
      ]
     },
     "execution_count": 20,
     "metadata": {},
     "output_type": "execute_result"
    }
   ],
   "source": [
    "train_set.head()"
   ]
  },
  {
   "cell_type": "code",
   "execution_count": 121,
   "id": "d567ce96",
   "metadata": {},
   "outputs": [
    {
     "data": {
      "image/png": "[encoded data removed]",
      "text/plain": [
       "<Figure size 432x288 with 1 Axes>"
      ]
     },
     "metadata": {
      "needs_background": "light"
     },
     "output_type": "display_data"
    }
   ],
   "source": [
    "plt.hist(train_set['timestamp'],100)\n",
    "plt.show()"
   ]
  },
  {
   "cell_type": "code",
   "execution_count": 122,
   "id": "9849429f",
   "metadata": {},
   "outputs": [
    {
     "data": {
      "image/png": "[encoded data removed]",
      "text/plain": [
       "<Figure size 432x288 with 1 Axes>"
      ]
     },
     "metadata": {
      "needs_background": "light"
     },
     "output_type": "display_data"
    }
   ],
   "source": [
    "plt.hist(test_set['timestamp'],100)\n",
    "plt.show()"
   ]
  },
  {
   "cell_type": "code",
   "execution_count": 21,
   "id": "82edc732",
   "metadata": {},
   "outputs": [
    {
     "data": {
      "text/html": [
       "<div>\n",
       "<style scoped>\n",
       "    .dataframe tbody tr th:only-of-type {\n",
       "        vertical-align: middle;\n",
       "    }\n",
       "\n",
       "    .dataframe tbody tr th {\n",
       "        vertical-align: top;\n",
       "    }\n",
       "\n",
       "    .dataframe thead th {\n",
       "        text-align: right;\n",
       "    }\n",
       "</style>\n",
       "<table border=\"1\" class=\"dataframe\">\n",
       "  <thead>\n",
       "    <tr style=\"text-align: right;\">\n",
       "      <th></th>\n",
       "      <th>userId</th>\n",
       "      <th>movieId</th>\n",
       "      <th>tag</th>\n",
       "      <th>timestamp</th>\n",
       "    </tr>\n",
       "  </thead>\n",
       "  <tbody>\n",
       "    <tr>\n",
       "      <th>0</th>\n",
       "      <td>3</td>\n",
       "      <td>260</td>\n",
       "      <td>classic</td>\n",
       "      <td>1439472355</td>\n",
       "    </tr>\n",
       "    <tr>\n",
       "      <th>1</th>\n",
       "      <td>3</td>\n",
       "      <td>260</td>\n",
       "      <td>sci-fi</td>\n",
       "      <td>1439472256</td>\n",
       "    </tr>\n",
       "    <tr>\n",
       "      <th>2</th>\n",
       "      <td>4</td>\n",
       "      <td>1732</td>\n",
       "      <td>dark comedy</td>\n",
       "      <td>1573943598</td>\n",
       "    </tr>\n",
       "    <tr>\n",
       "      <th>3</th>\n",
       "      <td>4</td>\n",
       "      <td>1732</td>\n",
       "      <td>great dialogue</td>\n",
       "      <td>1573943604</td>\n",
       "    </tr>\n",
       "    <tr>\n",
       "      <th>4</th>\n",
       "      <td>4</td>\n",
       "      <td>7569</td>\n",
       "      <td>so bad it's good</td>\n",
       "      <td>1573943455</td>\n",
       "    </tr>\n",
       "  </tbody>\n",
       "</table>\n",
       "</div>"
      ],
      "text/plain": [
       "   userId  movieId               tag   timestamp\n",
       "0       3      260           classic  1439472355\n",
       "1       3      260            sci-fi  1439472256\n",
       "2       4     1732       dark comedy  1573943598\n",
       "3       4     1732    great dialogue  1573943604\n",
       "4       4     7569  so bad it's good  1573943455"
      ]
     },
     "execution_count": 21,
     "metadata": {},
     "output_type": "execute_result"
    }
   ],
   "source": [
    "tags = pd.read_csv(base_dir+'tags.csv')\n",
    "tags.head()"
   ]
  },
  {
   "cell_type": "code",
   "execution_count": 24,
   "id": "e18fc212",
   "metadata": {},
   "outputs": [
    {
     "name": "stdout",
     "output_type": "stream",
     "text": [
      "sci-fi                       8330\n",
      "atmospheric                  6516\n",
      "action                       5907\n",
      "comedy                       5702\n",
      "surreal                      5326\n",
      "                             ... \n",
      "fairy tale:The White Cat        1\n",
      "lullaby                         1\n",
      "Shine On by needtobreathe       1\n",
      "sissy spacek                    1\n",
      "Peter Mortimer                  1\n",
      "Name: tag, Length: 73050, dtype: int64\n"
     ]
    }
   ],
   "source": [
    "tagcounts = tags['tag'].value_counts()\n",
    "print(tagcounts)"
   ]
  },
  {
   "cell_type": "markdown",
   "id": "01e7f624",
   "metadata": {},
   "source": [
    "As we can see, tag is a sparse feature."
   ]
  },
  {
   "cell_type": "code",
   "execution_count": 134,
   "id": "1b55b215",
   "metadata": {},
   "outputs": [
    {
     "data": {
      "image/png": "[encoded data removed]",
      "text/plain": [
       "<Figure size 432x288 with 1 Axes>"
      ]
     },
     "metadata": {
      "needs_background": "light"
     },
     "output_type": "display_data"
    }
   ],
   "source": [
    "plot_loghist(tagcounts,100)"
   ]
  },
  {
   "cell_type": "markdown",
   "id": "b9fd1ed9",
   "metadata": {},
   "source": [
    "Question: wether every movie in ratings data has at least one tag?"
   ]
  },
  {
   "cell_type": "code",
   "execution_count": 22,
   "id": "696c54af",
   "metadata": {},
   "outputs": [],
   "source": [
    "badMovie = ratings_filtered[~ratings_filtered['movieId'].isin(tags['movieId'])]"
   ]
  },
  {
   "cell_type": "markdown",
   "id": "f4a2b902",
   "metadata": {},
   "source": [
    "Unfortunately some (around 3935) 'bad movies' exist. Around 58000 ratings. It is pitty to drop those data."
   ]
  },
  {
   "cell_type": "code",
   "execution_count": 139,
   "id": "9ab5f30a",
   "metadata": {},
   "outputs": [
    {
     "name": "stdout",
     "output_type": "stream",
     "text": [
      "3943      724\n",
      "1600      626\n",
      "603       569\n",
      "5584      503\n",
      "463       369\n",
      "         ... \n",
      "205257      5\n",
      "177709      5\n",
      "182535      5\n",
      "199940      5\n",
      "207343      5\n",
      "Name: movieId, Length: 3935, dtype: int64\n"
     ]
    }
   ],
   "source": [
    "print(badMovie['movieId'].value_counts())"
   ]
  },
  {
   "cell_type": "markdown",
   "id": "6fbecbb1",
   "metadata": {},
   "source": [
    "Question: if filtered by count of tags, how many ratings will be filtered."
   ]
  },
  {
   "cell_type": "code",
   "execution_count": 25,
   "id": "b9b22b87",
   "metadata": {},
   "outputs": [
    {
     "name": "stdout",
     "output_type": "stream",
     "text": [
      "Minium rating number is 601. Maximum rating number is 8330\n",
      "Mean rating number is 1524.26953125. Medium rating number is 1046.0\n",
      "sci-fi             8330\n",
      "atmospheric        6516\n",
      "action             5907\n",
      "comedy             5702\n",
      "surreal            5326\n",
      "                   ... \n",
      "Robert De Niro      613\n",
      "Robin Williams      611\n",
      "cheesy              608\n",
      "plot holes          603\n",
      "Stanley Kubrick     601\n",
      "Name: tag, Length: 256, dtype: int64\n"
     ]
    }
   ],
   "source": [
    "tagcountsfrq = tagcounts[tagcounts>600]\n",
    "printStats(tagcountsfrq)\n",
    "print(tagcountsfrq)"
   ]
  },
  {
   "cell_type": "code",
   "execution_count": 26,
   "id": "6aab24be",
   "metadata": {},
   "outputs": [],
   "source": [
    "frq_tags = tags[tags['tag'].isin(tagcountsfrq.index.values.tolist())]"
   ]
  },
  {
   "cell_type": "markdown",
   "id": "d7a4d7f9",
   "metadata": {},
   "source": [
    "Price is too high, lost 410428 data"
   ]
  },
  {
   "cell_type": "code",
   "execution_count": 27,
   "id": "c0a12683",
   "metadata": {},
   "outputs": [
    {
     "name": "stdout",
     "output_type": "stream",
     "text": [
      "          userId  movieId  rating   timestamp\n",
      "123            2     1465     3.0  1141417875\n",
      "234            2     8010     5.0  1141417603\n",
      "321            3     2938     4.0  1484754240\n",
      "893            3   151763     4.0  1484754009\n",
      "982            4     7324     3.0  1573940718\n",
      "...          ...      ...     ...         ...\n",
      "24999556  162537     1593     3.0  1047171112\n",
      "24999586  162537     2876     3.0  1047171755\n",
      "24999604  162537     4141     4.0  1047171650\n",
      "24999610  162537     4757     5.0  1047171375\n",
      "24999614  162537     5213     1.0  1047171695\n",
      "\n",
      "[410428 rows x 4 columns]\n"
     ]
    }
   ],
   "source": [
    "worseMovie = ratings_filtered[~ratings_filtered['movieId'].isin(frq_tags['movieId'])]\n",
    "print(worseMovie)"
   ]
  },
  {
   "cell_type": "code",
   "execution_count": 28,
   "id": "0ab82ee1",
   "metadata": {},
   "outputs": [],
   "source": [
    "train_set.to_csv(base_dir+'train.csv')\n",
    "test_set.to_csv(base_dir+'test.csv')"
   ]
  },
  {
   "cell_type": "code",
   "execution_count": 31,
   "id": "3b375f69",
   "metadata": {},
   "outputs": [
    {
     "data": {
      "text/html": [
       "<div>\n",
       "<style scoped>\n",
       "    .dataframe tbody tr th:only-of-type {\n",
       "        vertical-align: middle;\n",
       "    }\n",
       "\n",
       "    .dataframe tbody tr th {\n",
       "        vertical-align: top;\n",
       "    }\n",
       "\n",
       "    .dataframe thead th {\n",
       "        text-align: right;\n",
       "    }\n",
       "</style>\n",
       "<table border=\"1\" class=\"dataframe\">\n",
       "  <thead>\n",
       "    <tr style=\"text-align: right;\">\n",
       "      <th></th>\n",
       "      <th>tagId</th>\n",
       "      <th>tag</th>\n",
       "    </tr>\n",
       "  </thead>\n",
       "  <tbody>\n",
       "    <tr>\n",
       "      <th>0</th>\n",
       "      <td>1</td>\n",
       "      <td>007</td>\n",
       "    </tr>\n",
       "    <tr>\n",
       "      <th>1</th>\n",
       "      <td>2</td>\n",
       "      <td>007 (series)</td>\n",
       "    </tr>\n",
       "    <tr>\n",
       "      <th>2</th>\n",
       "      <td>3</td>\n",
       "      <td>18th century</td>\n",
       "    </tr>\n",
       "    <tr>\n",
       "      <th>3</th>\n",
       "      <td>4</td>\n",
       "      <td>1920s</td>\n",
       "    </tr>\n",
       "    <tr>\n",
       "      <th>4</th>\n",
       "      <td>5</td>\n",
       "      <td>1930s</td>\n",
       "    </tr>\n",
       "  </tbody>\n",
       "</table>\n",
       "</div>"
      ],
      "text/plain": [
       "   tagId           tag\n",
       "0      1           007\n",
       "1      2  007 (series)\n",
       "2      3  18th century\n",
       "3      4         1920s\n",
       "4      5         1930s"
      ]
     },
     "execution_count": 31,
     "metadata": {},
     "output_type": "execute_result"
    }
   ],
   "source": [
    "genome_tags = pd.read_csv(base_dir+'genome-tags.csv')\n",
    "genome_tags.head()"
   ]
  },
  {
   "cell_type": "code",
   "execution_count": 33,
   "id": "b7a6345f",
   "metadata": {},
   "outputs": [
    {
     "name": "stdout",
     "output_type": "stream",
     "text": [
      "1128\n"
     ]
    }
   ],
   "source": [
    "print(len(genome_tags))"
   ]
  },
  {
   "cell_type": "code",
   "execution_count": 18,
   "id": "cdd1f4f6",
   "metadata": {},
   "outputs": [],
   "source": [
    "genome_scores = pd.read_csv(base_dir+'genome-scores.csv')"
   ]
  },
  {
   "cell_type": "code",
   "execution_count": 35,
   "id": "d8d8861c",
   "metadata": {},
   "outputs": [
    {
     "data": {
      "text/html": [
       "<div>\n",
       "<style scoped>\n",
       "    .dataframe tbody tr th:only-of-type {\n",
       "        vertical-align: middle;\n",
       "    }\n",
       "\n",
       "    .dataframe tbody tr th {\n",
       "        vertical-align: top;\n",
       "    }\n",
       "\n",
       "    .dataframe thead th {\n",
       "        text-align: right;\n",
       "    }\n",
       "</style>\n",
       "<table border=\"1\" class=\"dataframe\">\n",
       "  <thead>\n",
       "    <tr style=\"text-align: right;\">\n",
       "      <th></th>\n",
       "      <th>movieId</th>\n",
       "      <th>tagId</th>\n",
       "      <th>relevance</th>\n",
       "    </tr>\n",
       "  </thead>\n",
       "  <tbody>\n",
       "    <tr>\n",
       "      <th>0</th>\n",
       "      <td>1</td>\n",
       "      <td>1</td>\n",
       "      <td>0.02875</td>\n",
       "    </tr>\n",
       "    <tr>\n",
       "      <th>1</th>\n",
       "      <td>1</td>\n",
       "      <td>2</td>\n",
       "      <td>0.02375</td>\n",
       "    </tr>\n",
       "    <tr>\n",
       "      <th>2</th>\n",
       "      <td>1</td>\n",
       "      <td>3</td>\n",
       "      <td>0.06250</td>\n",
       "    </tr>\n",
       "    <tr>\n",
       "      <th>3</th>\n",
       "      <td>1</td>\n",
       "      <td>4</td>\n",
       "      <td>0.07575</td>\n",
       "    </tr>\n",
       "    <tr>\n",
       "      <th>4</th>\n",
       "      <td>1</td>\n",
       "      <td>5</td>\n",
       "      <td>0.14075</td>\n",
       "    </tr>\n",
       "  </tbody>\n",
       "</table>\n",
       "</div>"
      ],
      "text/plain": [
       "   movieId  tagId  relevance\n",
       "0        1      1    0.02875\n",
       "1        1      2    0.02375\n",
       "2        1      3    0.06250\n",
       "3        1      4    0.07575\n",
       "4        1      5    0.14075"
      ]
     },
     "execution_count": 35,
     "metadata": {},
     "output_type": "execute_result"
    }
   ],
   "source": [
    "genome_scores.head()"
   ]
  },
  {
   "cell_type": "code",
   "execution_count": 37,
   "id": "7032905d",
   "metadata": {},
   "outputs": [
    {
     "name": "stdout",
     "output_type": "stream",
     "text": [
      "13816.0\n"
     ]
    }
   ],
   "source": [
    "print(len(genome_scores)/1128)"
   ]
  },
  {
   "cell_type": "code",
   "execution_count": 19,
   "id": "f762de3d",
   "metadata": {},
   "outputs": [
    {
     "name": "stdout",
     "output_type": "stream",
     "text": [
      "13816\n"
     ]
    }
   ],
   "source": [
    "genome_cnts = genome_scores['movieId'].value_counts()\n",
    "print(len(genome_cnts))"
   ]
  },
  {
   "cell_type": "markdown",
   "id": "9c738c5a",
   "metadata": {},
   "source": [
    "Know how much total price paid if 'reduce data': data lost around 1.5%"
   ]
  },
  {
   "cell_type": "code",
   "execution_count": 20,
   "id": "d55db8ff",
   "metadata": {},
   "outputs": [
    {
     "name": "stdout",
     "output_type": "stream",
     "text": [
      "0.9869607695490757\n"
     ]
    }
   ],
   "source": [
    "genomed_movies = ratings_filtered[ratings_filtered['movieId'].isin(genome_cnts.index.values.tolist())]\n",
    "print(len(genomed_movies)/len(df_ratings))"
   ]
  },
  {
   "cell_type": "code",
   "execution_count": 53,
   "id": "962f336b",
   "metadata": {},
   "outputs": [
    {
     "name": "stdout",
     "output_type": "stream",
     "text": [
      "Minium rating number is 5. Maximum rating number is 10988\n",
      "Mean rating number is 151.80332841146796. Medium rating number is 71.0\n",
      "Minium rating number is 33. Maximum rating number is 81491\n",
      "Mean rating number is 1785.9085842501447. Medium rating number is 288.0\n"
     ]
    }
   ],
   "source": [
    "printStats(genomed_movies['userId'].value_counts())\n",
    "printStats(genomed_movies['movieId'].value_counts())"
   ]
  },
  {
   "cell_type": "markdown",
   "id": "6e06a456",
   "metadata": {},
   "source": [
    "Rebuild train-test set."
   ]
  },
  {
   "cell_type": "code",
   "execution_count": 21,
   "id": "e72ee485",
   "metadata": {},
   "outputs": [],
   "source": [
    "qTestf = genomed_movies[['userId','timestamp']].groupby('userId').quantile(0.8)"
   ]
  },
  {
   "cell_type": "code",
   "execution_count": 66,
   "id": "27b7e251",
   "metadata": {},
   "outputs": [
    {
     "name": "stdout",
     "output_type": "stream",
     "text": [
      "           timestamp\n",
      "userId              \n",
      "1       1.147879e+09\n",
      "2       1.141417e+09\n",
      "3       1.566090e+09\n",
      "4       1.573943e+09\n",
      "5       8.586276e+08\n",
      "...              ...\n",
      "162537  1.047172e+09\n",
      "162538  1.438784e+09\n",
      "162539  9.951506e+08\n",
      "162540  1.248862e+09\n",
      "162541  1.240953e+09\n",
      "\n",
      "[162540 rows x 1 columns]\n"
     ]
    }
   ],
   "source": [
    "print(qTestf)"
   ]
  },
  {
   "cell_type": "code",
   "execution_count": 22,
   "id": "a050f6b5",
   "metadata": {},
   "outputs": [],
   "source": [
    "trainIndexes, testIndexes = splitByQuantile(genomed_movies, qTestf, 'timestamp')"
   ]
  },
  {
   "cell_type": "code",
   "execution_count": 23,
   "id": "83600ee2",
   "metadata": {},
   "outputs": [],
   "source": [
    "train_set = getDataByIdx(genomed_movies, trainIndexes)\n",
    "test_set = getDataByIdx(genomed_movies, testIndexes)"
   ]
  },
  {
   "cell_type": "code",
   "execution_count": 29,
   "id": "d3403b69",
   "metadata": {},
   "outputs": [
    {
     "name": "stdout",
     "output_type": "stream",
     "text": [
      "   userId  movieId  rating   timestamp\n",
      "0       1      296     5.0  1147880044\n",
      "1       1      306     3.5  1147868817\n",
      "2       1      307     5.0  1147868828\n",
      "3       1      665     5.0  1147878820\n",
      "4       1      899     3.5  1147868510\n"
     ]
    }
   ],
   "source": [
    "print(genomed_movies.head())"
   ]
  },
  {
   "cell_type": "code",
   "execution_count": 34,
   "id": "d223bb2a",
   "metadata": {},
   "outputs": [],
   "source": [
    "count_by_movie = genomed_movies['movieId'].value_counts()"
   ]
  },
  {
   "cell_type": "code",
   "execution_count": 36,
   "id": "e528ab03",
   "metadata": {},
   "outputs": [],
   "source": [
    "genome_cnts.to_csv(base_dir+'surived_movies.csv')"
   ]
  },
  {
   "cell_type": "code",
   "execution_count": 42,
   "id": "a77c5a05",
   "metadata": {},
   "outputs": [
    {
     "name": "stdout",
     "output_type": "stream",
     "text": [
      "72315     10988\n",
      "80974      7036\n",
      "20055      6940\n",
      "33844      6340\n",
      "92046      5925\n",
      "          ...  \n",
      "16557        11\n",
      "84947        10\n",
      "144931        6\n",
      "10861         6\n",
      "122860        5\n",
      "Name: userId, Length: 162540, dtype: int64\n"
     ]
    }
   ],
   "source": [
    "top_ratingusers = genomed_movies['userId'].value_counts()\n",
    "user_ids = top_ratingusers.index.values.tolist()\n",
    "print(top_ratingusers)"
   ]
  },
  {
   "cell_type": "code",
   "execution_count": 44,
   "id": "7983c613",
   "metadata": {},
   "outputs": [
    {
     "name": "stdout",
     "output_type": "stream",
     "text": [
      "5925941\n"
     ]
    },
    {
     "data": {
      "text/html": [
       "<div>\n",
       "<style scoped>\n",
       "    .dataframe tbody tr th:only-of-type {\n",
       "        vertical-align: middle;\n",
       "    }\n",
       "\n",
       "    .dataframe tbody tr th {\n",
       "        vertical-align: top;\n",
       "    }\n",
       "\n",
       "    .dataframe thead th {\n",
       "        text-align: right;\n",
       "    }\n",
       "</style>\n",
       "<table border=\"1\" class=\"dataframe\">\n",
       "  <thead>\n",
       "    <tr style=\"text-align: right;\">\n",
       "      <th></th>\n",
       "      <th>userId</th>\n",
       "      <th>movieId</th>\n",
       "      <th>rating</th>\n",
       "      <th>timestamp</th>\n",
       "    </tr>\n",
       "  </thead>\n",
       "  <tbody>\n",
       "    <tr>\n",
       "      <th>1714</th>\n",
       "      <td>12</td>\n",
       "      <td>1</td>\n",
       "      <td>4.0</td>\n",
       "      <td>1167582601</td>\n",
       "    </tr>\n",
       "    <tr>\n",
       "      <th>1715</th>\n",
       "      <td>12</td>\n",
       "      <td>2</td>\n",
       "      <td>2.0</td>\n",
       "      <td>968257492</td>\n",
       "    </tr>\n",
       "    <tr>\n",
       "      <th>1716</th>\n",
       "      <td>12</td>\n",
       "      <td>3</td>\n",
       "      <td>2.0</td>\n",
       "      <td>1137231033</td>\n",
       "    </tr>\n",
       "    <tr>\n",
       "      <th>1717</th>\n",
       "      <td>12</td>\n",
       "      <td>7</td>\n",
       "      <td>3.0</td>\n",
       "      <td>940802609</td>\n",
       "    </tr>\n",
       "    <tr>\n",
       "      <th>1718</th>\n",
       "      <td>12</td>\n",
       "      <td>10</td>\n",
       "      <td>3.0</td>\n",
       "      <td>940791277</td>\n",
       "    </tr>\n",
       "  </tbody>\n",
       "</table>\n",
       "</div>"
      ],
      "text/plain": [
       "      userId  movieId  rating   timestamp\n",
       "1714      12        1     4.0  1167582601\n",
       "1715      12        2     2.0   968257492\n",
       "1716      12        3     2.0  1137231033\n",
       "1717      12        7     3.0   940802609\n",
       "1718      12       10     3.0   940791277"
      ]
     },
     "execution_count": 44,
     "metadata": {},
     "output_type": "execute_result"
    }
   ],
   "source": [
    "top5000 = user_ids[:5000]\n",
    "top5000_ratings = genomed_movies[genomed_movies['userId'].isin(top5000)]\n",
    "print(len(top5000_ratings))\n",
    "top5000_ratings.head()"
   ]
  },
  {
   "cell_type": "code",
   "execution_count": 45,
   "id": "6c8506b6",
   "metadata": {},
   "outputs": [],
   "source": [
    "qTest5000 = top5000_ratings[['userId','timestamp']].groupby('userId').quantile(0.8)"
   ]
  },
  {
   "cell_type": "code",
   "execution_count": 47,
   "id": "4934155a",
   "metadata": {},
   "outputs": [],
   "source": [
    "top5000_ratings.to_csv('Data/User_data/top5000.csv')"
   ]
  },
  {
   "cell_type": "code",
   "execution_count": 49,
   "id": "4293b56c",
   "metadata": {},
   "outputs": [],
   "source": [
    "train_5000, test_5000 = splitByQuantile(top5000_ratings, qTest5000, 'timestamp')\n",
    "train_set_5000 = getDataByIdx(top5000_ratings, train_5000)\n",
    "test_set_5000 = getDataByIdx(top5000_ratings, test_5000)\n",
    "train_set_5000.to_csv('Data/User_data/train_5000.csv')\n",
    "test_set_5000.to_csv('Data/User_data/test_5000.csv')"
   ]
  },
  {
   "cell_type": "code",
   "execution_count": 51,
   "id": "5e6f9142",
   "metadata": {},
   "outputs": [],
   "source": [
    "div5000 = len(top_ratingusers)//5000\n",
    "def synPartion(idx, div):\n",
    "    selected = []\n",
    "    for i in range(0,len(idx),div):\n",
    "        selected.append(idx[i])\n",
    "    return selected\n",
    "syn5000 = synPartion(user_ids, div5000)"
   ]
  },
  {
   "cell_type": "code",
   "execution_count": 53,
   "id": "a62224e1",
   "metadata": {},
   "outputs": [
    {
     "name": "stdout",
     "output_type": "stream",
     "text": [
      "779035\n"
     ]
    },
    {
     "data": {
      "text/html": [
       "<div>\n",
       "<style scoped>\n",
       "    .dataframe tbody tr th:only-of-type {\n",
       "        vertical-align: middle;\n",
       "    }\n",
       "\n",
       "    .dataframe tbody tr th {\n",
       "        vertical-align: top;\n",
       "    }\n",
       "\n",
       "    .dataframe thead th {\n",
       "        text-align: right;\n",
       "    }\n",
       "</style>\n",
       "<table border=\"1\" class=\"dataframe\">\n",
       "  <thead>\n",
       "    <tr style=\"text-align: right;\">\n",
       "      <th></th>\n",
       "      <th>userId</th>\n",
       "      <th>movieId</th>\n",
       "      <th>rating</th>\n",
       "      <th>timestamp</th>\n",
       "    </tr>\n",
       "  </thead>\n",
       "  <tbody>\n",
       "    <tr>\n",
       "      <th>24999373</th>\n",
       "      <td>162534</td>\n",
       "      <td>192379</td>\n",
       "      <td>3.5</td>\n",
       "      <td>1542036535</td>\n",
       "    </tr>\n",
       "    <tr>\n",
       "      <th>24999374</th>\n",
       "      <td>162534</td>\n",
       "      <td>193065</td>\n",
       "      <td>3.0</td>\n",
       "      <td>1548083784</td>\n",
       "    </tr>\n",
       "    <tr>\n",
       "      <th>24999375</th>\n",
       "      <td>162534</td>\n",
       "      <td>193944</td>\n",
       "      <td>3.0</td>\n",
       "      <td>1548083347</td>\n",
       "    </tr>\n",
       "    <tr>\n",
       "      <th>24999376</th>\n",
       "      <td>162534</td>\n",
       "      <td>194400</td>\n",
       "      <td>3.0</td>\n",
       "      <td>1548083397</td>\n",
       "    </tr>\n",
       "    <tr>\n",
       "      <th>24999377</th>\n",
       "      <td>162534</td>\n",
       "      <td>195163</td>\n",
       "      <td>2.0</td>\n",
       "      <td>1548083076</td>\n",
       "    </tr>\n",
       "  </tbody>\n",
       "</table>\n",
       "</div>"
      ],
      "text/plain": [
       "          userId  movieId  rating   timestamp\n",
       "24999373  162534   192379     3.5  1542036535\n",
       "24999374  162534   193065     3.0  1548083784\n",
       "24999375  162534   193944     3.0  1548083347\n",
       "24999376  162534   194400     3.0  1548083397\n",
       "24999377  162534   195163     2.0  1548083076"
      ]
     },
     "execution_count": 53,
     "metadata": {},
     "output_type": "execute_result"
    }
   ],
   "source": [
    "syn_5000_ratings = genomed_movies[genomed_movies['userId'].isin(syn5000)]\n",
    "print(len(syn_5000_ratings))\n",
    "syn_5000_ratings.tail()"
   ]
  },
  {
   "cell_type": "code",
   "execution_count": 54,
   "id": "34eacb40",
   "metadata": {},
   "outputs": [],
   "source": [
    "qTestSyn5000 = syn_5000_ratings[['userId','timestamp']].groupby('userId').quantile(0.8)\n",
    "train_syn_5000, test_syn_5000 = splitByQuantile(syn_5000_ratings, qTestSyn5000, 'timestamp')\n",
    "train_set_syn_5000 = getDataByIdx(syn_5000_ratings, train_syn_5000)\n",
    "test_set_syn_5000 = getDataByIdx(syn_5000_ratings, test_syn_5000)\n",
    "train_set_syn_5000.to_csv('Data/User_data/train_syn_5000.csv')\n",
    "test_set_syn_5000.to_csv('Data/User_data/test_syn_5000.csv')\n",
    "syn_5000_ratings.to_csv('Data/User_data/syn_5000.csv')"
   ]
  },
  {
   "cell_type": "code",
   "execution_count": 73,
   "id": "381fda24",
   "metadata": {},
   "outputs": [
    {
     "data": {
      "text/html": [
       "<div>\n",
       "<style scoped>\n",
       "    .dataframe tbody tr th:only-of-type {\n",
       "        vertical-align: middle;\n",
       "    }\n",
       "\n",
       "    .dataframe tbody tr th {\n",
       "        vertical-align: top;\n",
       "    }\n",
       "\n",
       "    .dataframe thead th {\n",
       "        text-align: right;\n",
       "    }\n",
       "</style>\n",
       "<table border=\"1\" class=\"dataframe\">\n",
       "  <thead>\n",
       "    <tr style=\"text-align: right;\">\n",
       "      <th>tagId</th>\n",
       "      <th>1</th>\n",
       "      <th>2</th>\n",
       "      <th>3</th>\n",
       "      <th>4</th>\n",
       "      <th>5</th>\n",
       "      <th>6</th>\n",
       "      <th>7</th>\n",
       "      <th>8</th>\n",
       "      <th>9</th>\n",
       "      <th>10</th>\n",
       "      <th>...</th>\n",
       "      <th>1119</th>\n",
       "      <th>1120</th>\n",
       "      <th>1121</th>\n",
       "      <th>1122</th>\n",
       "      <th>1123</th>\n",
       "      <th>1124</th>\n",
       "      <th>1125</th>\n",
       "      <th>1126</th>\n",
       "      <th>1127</th>\n",
       "      <th>1128</th>\n",
       "    </tr>\n",
       "    <tr>\n",
       "      <th>movieId</th>\n",
       "      <th></th>\n",
       "      <th></th>\n",
       "      <th></th>\n",
       "      <th></th>\n",
       "      <th></th>\n",
       "      <th></th>\n",
       "      <th></th>\n",
       "      <th></th>\n",
       "      <th></th>\n",
       "      <th></th>\n",
       "      <th></th>\n",
       "      <th></th>\n",
       "      <th></th>\n",
       "      <th></th>\n",
       "      <th></th>\n",
       "      <th></th>\n",
       "      <th></th>\n",
       "      <th></th>\n",
       "      <th></th>\n",
       "      <th></th>\n",
       "      <th></th>\n",
       "    </tr>\n",
       "  </thead>\n",
       "  <tbody>\n",
       "    <tr>\n",
       "      <th>1</th>\n",
       "      <td>0.02875</td>\n",
       "      <td>0.02375</td>\n",
       "      <td>0.06250</td>\n",
       "      <td>0.07575</td>\n",
       "      <td>0.14075</td>\n",
       "      <td>0.14675</td>\n",
       "      <td>0.06350</td>\n",
       "      <td>0.20375</td>\n",
       "      <td>0.2020</td>\n",
       "      <td>0.03075</td>\n",
       "      <td>...</td>\n",
       "      <td>0.04050</td>\n",
       "      <td>0.01425</td>\n",
       "      <td>0.03050</td>\n",
       "      <td>0.03500</td>\n",
       "      <td>0.14125</td>\n",
       "      <td>0.05775</td>\n",
       "      <td>0.03900</td>\n",
       "      <td>0.02975</td>\n",
       "      <td>0.08475</td>\n",
       "      <td>0.02200</td>\n",
       "    </tr>\n",
       "    <tr>\n",
       "      <th>2</th>\n",
       "      <td>0.04125</td>\n",
       "      <td>0.04050</td>\n",
       "      <td>0.06275</td>\n",
       "      <td>0.08275</td>\n",
       "      <td>0.09100</td>\n",
       "      <td>0.06125</td>\n",
       "      <td>0.06925</td>\n",
       "      <td>0.09600</td>\n",
       "      <td>0.0765</td>\n",
       "      <td>0.05250</td>\n",
       "      <td>...</td>\n",
       "      <td>0.05250</td>\n",
       "      <td>0.01575</td>\n",
       "      <td>0.01250</td>\n",
       "      <td>0.02000</td>\n",
       "      <td>0.12225</td>\n",
       "      <td>0.03275</td>\n",
       "      <td>0.02100</td>\n",
       "      <td>0.01100</td>\n",
       "      <td>0.10525</td>\n",
       "      <td>0.01975</td>\n",
       "    </tr>\n",
       "    <tr>\n",
       "      <th>3</th>\n",
       "      <td>0.04675</td>\n",
       "      <td>0.05550</td>\n",
       "      <td>0.02925</td>\n",
       "      <td>0.08700</td>\n",
       "      <td>0.04750</td>\n",
       "      <td>0.04775</td>\n",
       "      <td>0.04600</td>\n",
       "      <td>0.14275</td>\n",
       "      <td>0.0285</td>\n",
       "      <td>0.03875</td>\n",
       "      <td>...</td>\n",
       "      <td>0.06275</td>\n",
       "      <td>0.01950</td>\n",
       "      <td>0.02225</td>\n",
       "      <td>0.02300</td>\n",
       "      <td>0.12200</td>\n",
       "      <td>0.03475</td>\n",
       "      <td>0.01700</td>\n",
       "      <td>0.01800</td>\n",
       "      <td>0.09100</td>\n",
       "      <td>0.01775</td>\n",
       "    </tr>\n",
       "    <tr>\n",
       "      <th>4</th>\n",
       "      <td>0.03425</td>\n",
       "      <td>0.03800</td>\n",
       "      <td>0.04050</td>\n",
       "      <td>0.03100</td>\n",
       "      <td>0.06500</td>\n",
       "      <td>0.03575</td>\n",
       "      <td>0.02900</td>\n",
       "      <td>0.08650</td>\n",
       "      <td>0.0320</td>\n",
       "      <td>0.03150</td>\n",
       "      <td>...</td>\n",
       "      <td>0.05325</td>\n",
       "      <td>0.02800</td>\n",
       "      <td>0.01675</td>\n",
       "      <td>0.03875</td>\n",
       "      <td>0.18200</td>\n",
       "      <td>0.07050</td>\n",
       "      <td>0.01625</td>\n",
       "      <td>0.01425</td>\n",
       "      <td>0.08850</td>\n",
       "      <td>0.01500</td>\n",
       "    </tr>\n",
       "    <tr>\n",
       "      <th>5</th>\n",
       "      <td>0.04300</td>\n",
       "      <td>0.05325</td>\n",
       "      <td>0.03800</td>\n",
       "      <td>0.04100</td>\n",
       "      <td>0.05400</td>\n",
       "      <td>0.06725</td>\n",
       "      <td>0.02775</td>\n",
       "      <td>0.07650</td>\n",
       "      <td>0.0215</td>\n",
       "      <td>0.02975</td>\n",
       "      <td>...</td>\n",
       "      <td>0.05350</td>\n",
       "      <td>0.02050</td>\n",
       "      <td>0.01425</td>\n",
       "      <td>0.02550</td>\n",
       "      <td>0.19225</td>\n",
       "      <td>0.02675</td>\n",
       "      <td>0.01625</td>\n",
       "      <td>0.01300</td>\n",
       "      <td>0.08700</td>\n",
       "      <td>0.01600</td>\n",
       "    </tr>\n",
       "  </tbody>\n",
       "</table>\n",
       "<p>5 rows × 1128 columns</p>\n",
       "</div>"
      ],
      "text/plain": [
       "tagId       1        2        3        4        5        6        7     \\\n",
       "movieId                                                                  \n",
       "1        0.02875  0.02375  0.06250  0.07575  0.14075  0.14675  0.06350   \n",
       "2        0.04125  0.04050  0.06275  0.08275  0.09100  0.06125  0.06925   \n",
       "3        0.04675  0.05550  0.02925  0.08700  0.04750  0.04775  0.04600   \n",
       "4        0.03425  0.03800  0.04050  0.03100  0.06500  0.03575  0.02900   \n",
       "5        0.04300  0.05325  0.03800  0.04100  0.05400  0.06725  0.02775   \n",
       "\n",
       "tagId       8       9        10    ...     1119     1120     1121     1122  \\\n",
       "movieId                            ...                                       \n",
       "1        0.20375  0.2020  0.03075  ...  0.04050  0.01425  0.03050  0.03500   \n",
       "2        0.09600  0.0765  0.05250  ...  0.05250  0.01575  0.01250  0.02000   \n",
       "3        0.14275  0.0285  0.03875  ...  0.06275  0.01950  0.02225  0.02300   \n",
       "4        0.08650  0.0320  0.03150  ...  0.05325  0.02800  0.01675  0.03875   \n",
       "5        0.07650  0.0215  0.02975  ...  0.05350  0.02050  0.01425  0.02550   \n",
       "\n",
       "tagId       1123     1124     1125     1126     1127     1128  \n",
       "movieId                                                        \n",
       "1        0.14125  0.05775  0.03900  0.02975  0.08475  0.02200  \n",
       "2        0.12225  0.03275  0.02100  0.01100  0.10525  0.01975  \n",
       "3        0.12200  0.03475  0.01700  0.01800  0.09100  0.01775  \n",
       "4        0.18200  0.07050  0.01625  0.01425  0.08850  0.01500  \n",
       "5        0.19225  0.02675  0.01625  0.01300  0.08700  0.01600  \n",
       "\n",
       "[5 rows x 1128 columns]"
      ]
     },
     "execution_count": 73,
     "metadata": {},
     "output_type": "execute_result"
    }
   ],
   "source": [
    "tag_by_movie = pd.pivot_table(genome_scores, values = 'relevance', index = 'movieId', columns = 'tagId')\n",
    "tag_by_movie.head()"
   ]
  },
  {
   "cell_type": "code",
   "execution_count": 80,
   "id": "3a188df7",
   "metadata": {},
   "outputs": [],
   "source": [
    "tag_by_movie.to_csv(base_dir+'genome_scores_trans.csv')"
   ]
  },
  {
   "cell_type": "code",
   "execution_count": 83,
   "id": "ace16bf1",
   "metadata": {},
   "outputs": [
    {
     "data": {
      "text/html": [
       "<div>\n",
       "<style scoped>\n",
       "    .dataframe tbody tr th:only-of-type {\n",
       "        vertical-align: middle;\n",
       "    }\n",
       "\n",
       "    .dataframe tbody tr th {\n",
       "        vertical-align: top;\n",
       "    }\n",
       "\n",
       "    .dataframe thead th {\n",
       "        text-align: right;\n",
       "    }\n",
       "</style>\n",
       "<table border=\"1\" class=\"dataframe\">\n",
       "  <thead>\n",
       "    <tr style=\"text-align: right;\">\n",
       "      <th></th>\n",
       "      <th>movieId</th>\n",
       "      <th>1</th>\n",
       "      <th>2</th>\n",
       "      <th>3</th>\n",
       "      <th>4</th>\n",
       "      <th>5</th>\n",
       "      <th>6</th>\n",
       "      <th>7</th>\n",
       "      <th>8</th>\n",
       "      <th>9</th>\n",
       "      <th>...</th>\n",
       "      <th>1119</th>\n",
       "      <th>1120</th>\n",
       "      <th>1121</th>\n",
       "      <th>1122</th>\n",
       "      <th>1123</th>\n",
       "      <th>1124</th>\n",
       "      <th>1125</th>\n",
       "      <th>1126</th>\n",
       "      <th>1127</th>\n",
       "      <th>1128</th>\n",
       "    </tr>\n",
       "  </thead>\n",
       "  <tbody>\n",
       "    <tr>\n",
       "      <th>0</th>\n",
       "      <td>1</td>\n",
       "      <td>0.02875</td>\n",
       "      <td>0.02375</td>\n",
       "      <td>0.06250</td>\n",
       "      <td>0.07575</td>\n",
       "      <td>0.14075</td>\n",
       "      <td>0.14675</td>\n",
       "      <td>0.06350</td>\n",
       "      <td>0.20375</td>\n",
       "      <td>0.2020</td>\n",
       "      <td>...</td>\n",
       "      <td>0.04050</td>\n",
       "      <td>0.01425</td>\n",
       "      <td>0.03050</td>\n",
       "      <td>0.03500</td>\n",
       "      <td>0.14125</td>\n",
       "      <td>0.05775</td>\n",
       "      <td>0.03900</td>\n",
       "      <td>0.02975</td>\n",
       "      <td>0.08475</td>\n",
       "      <td>0.02200</td>\n",
       "    </tr>\n",
       "    <tr>\n",
       "      <th>1</th>\n",
       "      <td>2</td>\n",
       "      <td>0.04125</td>\n",
       "      <td>0.04050</td>\n",
       "      <td>0.06275</td>\n",
       "      <td>0.08275</td>\n",
       "      <td>0.09100</td>\n",
       "      <td>0.06125</td>\n",
       "      <td>0.06925</td>\n",
       "      <td>0.09600</td>\n",
       "      <td>0.0765</td>\n",
       "      <td>...</td>\n",
       "      <td>0.05250</td>\n",
       "      <td>0.01575</td>\n",
       "      <td>0.01250</td>\n",
       "      <td>0.02000</td>\n",
       "      <td>0.12225</td>\n",
       "      <td>0.03275</td>\n",
       "      <td>0.02100</td>\n",
       "      <td>0.01100</td>\n",
       "      <td>0.10525</td>\n",
       "      <td>0.01975</td>\n",
       "    </tr>\n",
       "    <tr>\n",
       "      <th>2</th>\n",
       "      <td>3</td>\n",
       "      <td>0.04675</td>\n",
       "      <td>0.05550</td>\n",
       "      <td>0.02925</td>\n",
       "      <td>0.08700</td>\n",
       "      <td>0.04750</td>\n",
       "      <td>0.04775</td>\n",
       "      <td>0.04600</td>\n",
       "      <td>0.14275</td>\n",
       "      <td>0.0285</td>\n",
       "      <td>...</td>\n",
       "      <td>0.06275</td>\n",
       "      <td>0.01950</td>\n",
       "      <td>0.02225</td>\n",
       "      <td>0.02300</td>\n",
       "      <td>0.12200</td>\n",
       "      <td>0.03475</td>\n",
       "      <td>0.01700</td>\n",
       "      <td>0.01800</td>\n",
       "      <td>0.09100</td>\n",
       "      <td>0.01775</td>\n",
       "    </tr>\n",
       "    <tr>\n",
       "      <th>3</th>\n",
       "      <td>4</td>\n",
       "      <td>0.03425</td>\n",
       "      <td>0.03800</td>\n",
       "      <td>0.04050</td>\n",
       "      <td>0.03100</td>\n",
       "      <td>0.06500</td>\n",
       "      <td>0.03575</td>\n",
       "      <td>0.02900</td>\n",
       "      <td>0.08650</td>\n",
       "      <td>0.0320</td>\n",
       "      <td>...</td>\n",
       "      <td>0.05325</td>\n",
       "      <td>0.02800</td>\n",
       "      <td>0.01675</td>\n",
       "      <td>0.03875</td>\n",
       "      <td>0.18200</td>\n",
       "      <td>0.07050</td>\n",
       "      <td>0.01625</td>\n",
       "      <td>0.01425</td>\n",
       "      <td>0.08850</td>\n",
       "      <td>0.01500</td>\n",
       "    </tr>\n",
       "    <tr>\n",
       "      <th>4</th>\n",
       "      <td>5</td>\n",
       "      <td>0.04300</td>\n",
       "      <td>0.05325</td>\n",
       "      <td>0.03800</td>\n",
       "      <td>0.04100</td>\n",
       "      <td>0.05400</td>\n",
       "      <td>0.06725</td>\n",
       "      <td>0.02775</td>\n",
       "      <td>0.07650</td>\n",
       "      <td>0.0215</td>\n",
       "      <td>...</td>\n",
       "      <td>0.05350</td>\n",
       "      <td>0.02050</td>\n",
       "      <td>0.01425</td>\n",
       "      <td>0.02550</td>\n",
       "      <td>0.19225</td>\n",
       "      <td>0.02675</td>\n",
       "      <td>0.01625</td>\n",
       "      <td>0.01300</td>\n",
       "      <td>0.08700</td>\n",
       "      <td>0.01600</td>\n",
       "    </tr>\n",
       "  </tbody>\n",
       "</table>\n",
       "<p>5 rows × 1129 columns</p>\n",
       "</div>"
      ],
      "text/plain": [
       "   movieId        1        2        3        4        5        6        7  \\\n",
       "0        1  0.02875  0.02375  0.06250  0.07575  0.14075  0.14675  0.06350   \n",
       "1        2  0.04125  0.04050  0.06275  0.08275  0.09100  0.06125  0.06925   \n",
       "2        3  0.04675  0.05550  0.02925  0.08700  0.04750  0.04775  0.04600   \n",
       "3        4  0.03425  0.03800  0.04050  0.03100  0.06500  0.03575  0.02900   \n",
       "4        5  0.04300  0.05325  0.03800  0.04100  0.05400  0.06725  0.02775   \n",
       "\n",
       "         8       9  ...     1119     1120     1121     1122     1123     1124  \\\n",
       "0  0.20375  0.2020  ...  0.04050  0.01425  0.03050  0.03500  0.14125  0.05775   \n",
       "1  0.09600  0.0765  ...  0.05250  0.01575  0.01250  0.02000  0.12225  0.03275   \n",
       "2  0.14275  0.0285  ...  0.06275  0.01950  0.02225  0.02300  0.12200  0.03475   \n",
       "3  0.08650  0.0320  ...  0.05325  0.02800  0.01675  0.03875  0.18200  0.07050   \n",
       "4  0.07650  0.0215  ...  0.05350  0.02050  0.01425  0.02550  0.19225  0.02675   \n",
       "\n",
       "      1125     1126     1127     1128  \n",
       "0  0.03900  0.02975  0.08475  0.02200  \n",
       "1  0.02100  0.01100  0.10525  0.01975  \n",
       "2  0.01700  0.01800  0.09100  0.01775  \n",
       "3  0.01625  0.01425  0.08850  0.01500  \n",
       "4  0.01625  0.01300  0.08700  0.01600  \n",
       "\n",
       "[5 rows x 1129 columns]"
      ]
     },
     "execution_count": 83,
     "metadata": {},
     "output_type": "execute_result"
    }
   ],
   "source": [
    "tag_by_movie = pd.read_csv(base_dir+'genome_scores_trans.csv')\n",
    "tag_by_movie.head()"
   ]
  },
  {
   "cell_type": "markdown",
   "id": "00037959",
   "metadata": {},
   "source": [
    "Around serval hundards of GB memory will be used. Seems large."
   ]
  },
  {
   "cell_type": "code",
   "execution_count": 86,
   "id": "4989dc47",
   "metadata": {},
   "outputs": [
    {
     "name": "stdout",
     "output_type": "stream",
     "text": [
      "Memory usage estimation: 225.80027504342792 GB.\n"
     ]
    }
   ],
   "source": [
    "import sys\n",
    "size_seed = sys.getsizeof(tag_by_movie)\n",
    "estimated_usage = size_seed*25/13816\n",
    "print('Memory usage estimation: '+str(estimated_usage/1000)+' GB.')"
   ]
  },
  {
   "cell_type": "code",
   "execution_count": 103,
   "id": "90c68544",
   "metadata": {},
   "outputs": [
    {
     "name": "stdout",
     "output_type": "stream",
     "text": [
      "119.00545501708984\n"
     ]
    }
   ],
   "source": [
    "print(size_seed/1024/1024)"
   ]
  },
  {
   "cell_type": "markdown",
   "id": "072a42b1",
   "metadata": {},
   "source": [
    "Solution: PCA, reduce it to 64, 128, 256 dimensions."
   ]
  },
  {
   "cell_type": "code",
   "execution_count": 113,
   "id": "14321c42",
   "metadata": {},
   "outputs": [],
   "source": [
    "from sklearn.decomposition import PCA\n",
    "pca = PCA(n_components = 133)\n",
    "to_pca = tag_by_movie.loc[:, ~tag_by_movie.columns.isin(['movieId'])]\n",
    "new_score = pca.fit_transform(to_pca)"
   ]
  },
  {
   "cell_type": "code",
   "execution_count": 114,
   "id": "306a3868",
   "metadata": {},
   "outputs": [],
   "source": [
    "def aggrateVEP(vlist):\n",
    "    v_dict = {0:0}\n",
    "    for i in range(len(vlist)):\n",
    "        v_dict[i+1] = v_dict[i] + vlist[i]\n",
    "    return v_dict"
   ]
  },
  {
   "cell_type": "code",
   "execution_count": 116,
   "id": "1f673c75",
   "metadata": {},
   "outputs": [
    {
     "name": "stdout",
     "output_type": "stream",
     "text": [
      "0.8003559508832869\n"
     ]
    }
   ],
   "source": [
    "print(aggrateVEP(pca.explained_variance_ratio_)[pca.n_components])"
   ]
  },
  {
   "cell_type": "code",
   "execution_count": 124,
   "id": "b986e1a9",
   "metadata": {},
   "outputs": [],
   "source": [
    "reduced_tag_score = pd.concat((tag_by_movie['movieId'],pd.DataFrame(new_score)),axis=1)"
   ]
  },
  {
   "cell_type": "code",
   "execution_count": 127,
   "id": "c41f1f03",
   "metadata": {},
   "outputs": [
    {
     "data": {
      "text/html": [
       "<div>\n",
       "<style scoped>\n",
       "    .dataframe tbody tr th:only-of-type {\n",
       "        vertical-align: middle;\n",
       "    }\n",
       "\n",
       "    .dataframe tbody tr th {\n",
       "        vertical-align: top;\n",
       "    }\n",
       "\n",
       "    .dataframe thead th {\n",
       "        text-align: right;\n",
       "    }\n",
       "</style>\n",
       "<table border=\"1\" class=\"dataframe\">\n",
       "  <thead>\n",
       "    <tr style=\"text-align: right;\">\n",
       "      <th></th>\n",
       "      <th>movieId</th>\n",
       "      <th>0</th>\n",
       "      <th>1</th>\n",
       "      <th>2</th>\n",
       "      <th>3</th>\n",
       "      <th>4</th>\n",
       "      <th>5</th>\n",
       "      <th>6</th>\n",
       "      <th>7</th>\n",
       "      <th>8</th>\n",
       "      <th>...</th>\n",
       "      <th>123</th>\n",
       "      <th>124</th>\n",
       "      <th>125</th>\n",
       "      <th>126</th>\n",
       "      <th>127</th>\n",
       "      <th>128</th>\n",
       "      <th>129</th>\n",
       "      <th>130</th>\n",
       "      <th>131</th>\n",
       "      <th>132</th>\n",
       "    </tr>\n",
       "  </thead>\n",
       "  <tbody>\n",
       "    <tr>\n",
       "      <th>0</th>\n",
       "      <td>1</td>\n",
       "      <td>0.796514</td>\n",
       "      <td>2.212839</td>\n",
       "      <td>-2.489444</td>\n",
       "      <td>1.624747</td>\n",
       "      <td>0.984763</td>\n",
       "      <td>1.168046</td>\n",
       "      <td>-0.203301</td>\n",
       "      <td>1.659382</td>\n",
       "      <td>-0.675963</td>\n",
       "      <td>...</td>\n",
       "      <td>-0.148217</td>\n",
       "      <td>0.028304</td>\n",
       "      <td>-0.094287</td>\n",
       "      <td>0.086022</td>\n",
       "      <td>-0.062336</td>\n",
       "      <td>-0.115150</td>\n",
       "      <td>0.021409</td>\n",
       "      <td>0.085623</td>\n",
       "      <td>-0.019197</td>\n",
       "      <td>-0.116558</td>\n",
       "    </tr>\n",
       "    <tr>\n",
       "      <th>1</th>\n",
       "      <td>2</td>\n",
       "      <td>-1.541922</td>\n",
       "      <td>1.597864</td>\n",
       "      <td>-1.113613</td>\n",
       "      <td>1.302526</td>\n",
       "      <td>-0.196336</td>\n",
       "      <td>0.191809</td>\n",
       "      <td>-0.026161</td>\n",
       "      <td>1.208987</td>\n",
       "      <td>-0.369388</td>\n",
       "      <td>...</td>\n",
       "      <td>-0.116067</td>\n",
       "      <td>0.109153</td>\n",
       "      <td>0.035602</td>\n",
       "      <td>0.063838</td>\n",
       "      <td>0.057933</td>\n",
       "      <td>-0.012582</td>\n",
       "      <td>0.105010</td>\n",
       "      <td>-0.090517</td>\n",
       "      <td>-0.091307</td>\n",
       "      <td>0.041468</td>\n",
       "    </tr>\n",
       "    <tr>\n",
       "      <th>2</th>\n",
       "      <td>3</td>\n",
       "      <td>-1.506092</td>\n",
       "      <td>-0.010220</td>\n",
       "      <td>-0.605981</td>\n",
       "      <td>-0.316252</td>\n",
       "      <td>0.330972</td>\n",
       "      <td>0.334078</td>\n",
       "      <td>0.048252</td>\n",
       "      <td>0.010072</td>\n",
       "      <td>-0.042318</td>\n",
       "      <td>...</td>\n",
       "      <td>0.004115</td>\n",
       "      <td>-0.036467</td>\n",
       "      <td>0.092845</td>\n",
       "      <td>0.021565</td>\n",
       "      <td>-0.068685</td>\n",
       "      <td>0.066558</td>\n",
       "      <td>0.103104</td>\n",
       "      <td>-0.069629</td>\n",
       "      <td>-0.090670</td>\n",
       "      <td>0.061328</td>\n",
       "    </tr>\n",
       "    <tr>\n",
       "      <th>3</th>\n",
       "      <td>4</td>\n",
       "      <td>-1.293604</td>\n",
       "      <td>-0.775662</td>\n",
       "      <td>-0.926582</td>\n",
       "      <td>-0.384600</td>\n",
       "      <td>0.103713</td>\n",
       "      <td>-0.345682</td>\n",
       "      <td>0.683775</td>\n",
       "      <td>0.218370</td>\n",
       "      <td>-0.159426</td>\n",
       "      <td>...</td>\n",
       "      <td>0.046263</td>\n",
       "      <td>0.087359</td>\n",
       "      <td>-0.048329</td>\n",
       "      <td>0.031528</td>\n",
       "      <td>-0.063241</td>\n",
       "      <td>-0.109121</td>\n",
       "      <td>0.063019</td>\n",
       "      <td>0.134872</td>\n",
       "      <td>0.002302</td>\n",
       "      <td>0.144561</td>\n",
       "    </tr>\n",
       "    <tr>\n",
       "      <th>4</th>\n",
       "      <td>5</td>\n",
       "      <td>-1.694557</td>\n",
       "      <td>-0.185986</td>\n",
       "      <td>-1.204239</td>\n",
       "      <td>-0.149549</td>\n",
       "      <td>0.470713</td>\n",
       "      <td>0.053199</td>\n",
       "      <td>0.385026</td>\n",
       "      <td>0.302557</td>\n",
       "      <td>-0.133083</td>\n",
       "      <td>...</td>\n",
       "      <td>-0.125344</td>\n",
       "      <td>-0.056044</td>\n",
       "      <td>0.020136</td>\n",
       "      <td>-0.043664</td>\n",
       "      <td>0.031353</td>\n",
       "      <td>0.051574</td>\n",
       "      <td>0.191319</td>\n",
       "      <td>0.078397</td>\n",
       "      <td>-0.023720</td>\n",
       "      <td>-0.050017</td>\n",
       "    </tr>\n",
       "  </tbody>\n",
       "</table>\n",
       "<p>5 rows × 134 columns</p>\n",
       "</div>"
      ],
      "text/plain": [
       "   movieId         0         1         2         3         4         5  \\\n",
       "0        1  0.796514  2.212839 -2.489444  1.624747  0.984763  1.168046   \n",
       "1        2 -1.541922  1.597864 -1.113613  1.302526 -0.196336  0.191809   \n",
       "2        3 -1.506092 -0.010220 -0.605981 -0.316252  0.330972  0.334078   \n",
       "3        4 -1.293604 -0.775662 -0.926582 -0.384600  0.103713 -0.345682   \n",
       "4        5 -1.694557 -0.185986 -1.204239 -0.149549  0.470713  0.053199   \n",
       "\n",
       "          6         7         8  ...       123       124       125       126  \\\n",
       "0 -0.203301  1.659382 -0.675963  ... -0.148217  0.028304 -0.094287  0.086022   \n",
       "1 -0.026161  1.208987 -0.369388  ... -0.116067  0.109153  0.035602  0.063838   \n",
       "2  0.048252  0.010072 -0.042318  ...  0.004115 -0.036467  0.092845  0.021565   \n",
       "3  0.683775  0.218370 -0.159426  ...  0.046263  0.087359 -0.048329  0.031528   \n",
       "4  0.385026  0.302557 -0.133083  ... -0.125344 -0.056044  0.020136 -0.043664   \n",
       "\n",
       "        127       128       129       130       131       132  \n",
       "0 -0.062336 -0.115150  0.021409  0.085623 -0.019197 -0.116558  \n",
       "1  0.057933 -0.012582  0.105010 -0.090517 -0.091307  0.041468  \n",
       "2 -0.068685  0.066558  0.103104 -0.069629 -0.090670  0.061328  \n",
       "3 -0.063241 -0.109121  0.063019  0.134872  0.002302  0.144561  \n",
       "4  0.031353  0.051574  0.191319  0.078397 -0.023720 -0.050017  \n",
       "\n",
       "[5 rows x 134 columns]"
      ]
     },
     "execution_count": 127,
     "metadata": {},
     "output_type": "execute_result"
    }
   ],
   "source": [
    "reduced_tag_score.head()"
   ]
  },
  {
   "cell_type": "code",
   "execution_count": 129,
   "id": "735d9ff6",
   "metadata": {},
   "outputs": [
    {
     "data": {
      "text/html": [
       "<div>\n",
       "<style scoped>\n",
       "    .dataframe tbody tr th:only-of-type {\n",
       "        vertical-align: middle;\n",
       "    }\n",
       "\n",
       "    .dataframe tbody tr th {\n",
       "        vertical-align: top;\n",
       "    }\n",
       "\n",
       "    .dataframe thead th {\n",
       "        text-align: right;\n",
       "    }\n",
       "</style>\n",
       "<table border=\"1\" class=\"dataframe\">\n",
       "  <thead>\n",
       "    <tr style=\"text-align: right;\">\n",
       "      <th></th>\n",
       "      <th>userId</th>\n",
       "      <th>movieId</th>\n",
       "      <th>rating</th>\n",
       "      <th>timestamp</th>\n",
       "      <th>0</th>\n",
       "      <th>1</th>\n",
       "      <th>2</th>\n",
       "      <th>3</th>\n",
       "      <th>4</th>\n",
       "      <th>5</th>\n",
       "      <th>...</th>\n",
       "      <th>123</th>\n",
       "      <th>124</th>\n",
       "      <th>125</th>\n",
       "      <th>126</th>\n",
       "      <th>127</th>\n",
       "      <th>128</th>\n",
       "      <th>129</th>\n",
       "      <th>130</th>\n",
       "      <th>131</th>\n",
       "      <th>132</th>\n",
       "    </tr>\n",
       "  </thead>\n",
       "  <tbody>\n",
       "    <tr>\n",
       "      <th>0</th>\n",
       "      <td>1</td>\n",
       "      <td>296</td>\n",
       "      <td>5.0</td>\n",
       "      <td>1147880044</td>\n",
       "      <td>4.790098</td>\n",
       "      <td>2.207694</td>\n",
       "      <td>2.002849</td>\n",
       "      <td>-0.806388</td>\n",
       "      <td>2.117197</td>\n",
       "      <td>0.731730</td>\n",
       "      <td>...</td>\n",
       "      <td>0.273203</td>\n",
       "      <td>-0.059788</td>\n",
       "      <td>-0.192721</td>\n",
       "      <td>0.092506</td>\n",
       "      <td>0.010820</td>\n",
       "      <td>0.046322</td>\n",
       "      <td>0.118561</td>\n",
       "      <td>-0.056217</td>\n",
       "      <td>-0.019646</td>\n",
       "      <td>-0.127105</td>\n",
       "    </tr>\n",
       "    <tr>\n",
       "      <th>3</th>\n",
       "      <td>1</td>\n",
       "      <td>665</td>\n",
       "      <td>5.0</td>\n",
       "      <td>1147878820</td>\n",
       "      <td>2.263750</td>\n",
       "      <td>-0.978720</td>\n",
       "      <td>-0.029237</td>\n",
       "      <td>0.822817</td>\n",
       "      <td>-0.605279</td>\n",
       "      <td>0.310908</td>\n",
       "      <td>...</td>\n",
       "      <td>0.071568</td>\n",
       "      <td>0.082318</td>\n",
       "      <td>-0.283511</td>\n",
       "      <td>0.323065</td>\n",
       "      <td>0.013884</td>\n",
       "      <td>-0.156767</td>\n",
       "      <td>-0.248465</td>\n",
       "      <td>-0.093660</td>\n",
       "      <td>-0.137733</td>\n",
       "      <td>-0.032200</td>\n",
       "    </tr>\n",
       "    <tr>\n",
       "      <th>17</th>\n",
       "      <td>1</td>\n",
       "      <td>2573</td>\n",
       "      <td>4.0</td>\n",
       "      <td>1147878923</td>\n",
       "      <td>-0.412652</td>\n",
       "      <td>-1.454647</td>\n",
       "      <td>0.037292</td>\n",
       "      <td>0.370365</td>\n",
       "      <td>-0.588790</td>\n",
       "      <td>0.061665</td>\n",
       "      <td>...</td>\n",
       "      <td>0.023688</td>\n",
       "      <td>0.131135</td>\n",
       "      <td>-0.019257</td>\n",
       "      <td>-0.098743</td>\n",
       "      <td>0.042214</td>\n",
       "      <td>0.044284</td>\n",
       "      <td>-0.010378</td>\n",
       "      <td>-0.123901</td>\n",
       "      <td>-0.061612</td>\n",
       "      <td>-0.121845</td>\n",
       "    </tr>\n",
       "    <tr>\n",
       "      <th>22</th>\n",
       "      <td>1</td>\n",
       "      <td>3569</td>\n",
       "      <td>5.0</td>\n",
       "      <td>1147879603</td>\n",
       "      <td>0.109035</td>\n",
       "      <td>-1.826989</td>\n",
       "      <td>0.930879</td>\n",
       "      <td>0.124509</td>\n",
       "      <td>0.237912</td>\n",
       "      <td>-0.721922</td>\n",
       "      <td>...</td>\n",
       "      <td>0.247350</td>\n",
       "      <td>-0.033395</td>\n",
       "      <td>-0.243894</td>\n",
       "      <td>-0.054822</td>\n",
       "      <td>0.067314</td>\n",
       "      <td>0.077463</td>\n",
       "      <td>-0.172949</td>\n",
       "      <td>-0.275760</td>\n",
       "      <td>0.066128</td>\n",
       "      <td>0.039679</td>\n",
       "    </tr>\n",
       "    <tr>\n",
       "      <th>31</th>\n",
       "      <td>1</td>\n",
       "      <td>5269</td>\n",
       "      <td>0.5</td>\n",
       "      <td>1147879571</td>\n",
       "      <td>1.741374</td>\n",
       "      <td>-2.060468</td>\n",
       "      <td>1.754904</td>\n",
       "      <td>0.466869</td>\n",
       "      <td>0.282623</td>\n",
       "      <td>-1.029475</td>\n",
       "      <td>...</td>\n",
       "      <td>-0.006317</td>\n",
       "      <td>0.104564</td>\n",
       "      <td>-0.045042</td>\n",
       "      <td>-0.187657</td>\n",
       "      <td>-0.018762</td>\n",
       "      <td>-0.183482</td>\n",
       "      <td>-0.048001</td>\n",
       "      <td>-0.054790</td>\n",
       "      <td>0.063740</td>\n",
       "      <td>0.013386</td>\n",
       "    </tr>\n",
       "  </tbody>\n",
       "</table>\n",
       "<p>5 rows × 137 columns</p>\n",
       "</div>"
      ],
      "text/plain": [
       "    userId  movieId  rating   timestamp         0         1         2  \\\n",
       "0        1      296     5.0  1147880044  4.790098  2.207694  2.002849   \n",
       "3        1      665     5.0  1147878820  2.263750 -0.978720 -0.029237   \n",
       "17       1     2573     4.0  1147878923 -0.412652 -1.454647  0.037292   \n",
       "22       1     3569     5.0  1147879603  0.109035 -1.826989  0.930879   \n",
       "31       1     5269     0.5  1147879571  1.741374 -2.060468  1.754904   \n",
       "\n",
       "           3         4         5  ...       123       124       125       126  \\\n",
       "0  -0.806388  2.117197  0.731730  ...  0.273203 -0.059788 -0.192721  0.092506   \n",
       "3   0.822817 -0.605279  0.310908  ...  0.071568  0.082318 -0.283511  0.323065   \n",
       "17  0.370365 -0.588790  0.061665  ...  0.023688  0.131135 -0.019257 -0.098743   \n",
       "22  0.124509  0.237912 -0.721922  ...  0.247350 -0.033395 -0.243894 -0.054822   \n",
       "31  0.466869  0.282623 -1.029475  ... -0.006317  0.104564 -0.045042 -0.187657   \n",
       "\n",
       "         127       128       129       130       131       132  \n",
       "0   0.010820  0.046322  0.118561 -0.056217 -0.019646 -0.127105  \n",
       "3   0.013884 -0.156767 -0.248465 -0.093660 -0.137733 -0.032200  \n",
       "17  0.042214  0.044284 -0.010378 -0.123901 -0.061612 -0.121845  \n",
       "22  0.067314  0.077463 -0.172949 -0.275760  0.066128  0.039679  \n",
       "31 -0.018762 -0.183482 -0.048001 -0.054790  0.063740  0.013386  \n",
       "\n",
       "[5 rows x 137 columns]"
      ]
     },
     "execution_count": 129,
     "metadata": {},
     "output_type": "execute_result"
    }
   ],
   "source": [
    "long_test = test_set.join(reduced_tag_score.set_index('movieId'),on='movieId')\n",
    "long_test.head()"
   ]
  },
  {
   "cell_type": "code",
   "execution_count": 133,
   "id": "96debd5c",
   "metadata": {},
   "outputs": [
    {
     "name": "stdout",
     "output_type": "stream",
     "text": [
      "19587510\n"
     ]
    }
   ],
   "source": [
    "print(len(long_train))"
   ]
  },
  {
   "cell_type": "code",
   "execution_count": 131,
   "id": "b6ed55f9",
   "metadata": {},
   "outputs": [],
   "source": [
    "long_train = train_set.join(reduced_tag_score.set_index('movieId'),on='movieId')"
   ]
  },
  {
   "cell_type": "code",
   "execution_count": 132,
   "id": "55649415",
   "metadata": {},
   "outputs": [],
   "source": [
    "# Over 70G data will be created. Not recommend to run.\n",
    "#long_test.to_csv(base_dir+'long_test.csv')\n",
    "#long_train.to_csv(base_dir+'long_train.csv')"
   ]
  },
  {
   "cell_type": "code",
   "execution_count": 200,
   "id": "865a3835",
   "metadata": {},
   "outputs": [],
   "source": [
    "ratingcols = ['rating']\n",
    "timecols = ['timestamp']\n",
    "cols = [f for f in long_train.columns if f not in ['date_'] + timecols + ratingcols]"
   ]
  },
  {
   "cell_type": "code",
   "execution_count": 149,
   "id": "76b65981",
   "metadata": {},
   "outputs": [],
   "source": [
    "from tqdm import tqdm\n",
    "import gc\n",
    "import time\n",
    "def reduce_mem(df, cols):\n",
    "    start_mem = df.memory_usage().sum() / 1024 ** 2\n",
    "    for col in tqdm(cols):\n",
    "        col_type = df[col].dtypes\n",
    "        if col_type != object:\n",
    "            c_min = df[col].min()\n",
    "            c_max = df[col].max()\n",
    "            if str(col_type)[:3] == 'int':\n",
    "                if c_min > np.iinfo(np.int8).min and c_max < np.iinfo(np.int8).max:\n",
    "                    df[col] = df[col].astype(np.int8)\n",
    "                elif c_min > np.iinfo(np.int16).min and c_max < np.iinfo(np.int16).max:\n",
    "                    df[col] = df[col].astype(np.int16)\n",
    "                elif c_min > np.iinfo(np.int32).min and c_max < np.iinfo(np.int32).max:\n",
    "                    df[col] = df[col].astype(np.int32)\n",
    "                elif c_min > np.iinfo(np.int64).min and c_max < np.iinfo(np.int64).max:\n",
    "                    df[col] = df[col].astype(np.int64)\n",
    "            else:\n",
    "                if c_min > np.finfo(np.float16).min and c_max < np.finfo(np.float16).max:\n",
    "                    df[col] = df[col].astype(np.float16)\n",
    "                elif c_min > np.finfo(np.float32).min and c_max < np.finfo(np.float32).max:\n",
    "                    df[col] = df[col].astype(np.float32)\n",
    "                else:\n",
    "                    df[col] = df[col].astype(np.float64)\n",
    "    end_mem = df.memory_usage().sum() / 1024 ** 2\n",
    "    print('{:.2f} Mb, {:.2f} Mb ({:.2f} %)'.format(start_mem, end_mem, 100 * (start_mem - end_mem) / start_mem))\n",
    "    gc.collect()\n",
    "    return df"
   ]
  },
  {
   "cell_type": "code",
   "execution_count": 150,
   "id": "1e04515c",
   "metadata": {},
   "outputs": [
    {
     "name": "stdout",
     "output_type": "stream",
     "text": [
      "<class 'list'>\n"
     ]
    }
   ],
   "source": [
    "print(type(cols))"
   ]
  },
  {
   "cell_type": "code",
   "execution_count": 151,
   "id": "73232720",
   "metadata": {},
   "outputs": [
    {
     "name": "stderr",
     "output_type": "stream",
     "text": [
      "100%|████████████████████████████████████████████████████████████████████████████████| 135/135 [00:43<00:00,  3.10it/s]\n",
      "  1%|▌                                                                                 | 1/135 [00:00<00:19,  6.90it/s]"
     ]
    },
    {
     "name": "stdout",
     "output_type": "stream",
     "text": [
      "5566.67 Mb, 5566.67 Mb (0.00 %)\n"
     ]
    },
    {
     "name": "stderr",
     "output_type": "stream",
     "text": [
      "100%|████████████████████████████████████████████████████████████████████████████████| 135/135 [02:01<00:00,  1.11it/s]\n"
     ]
    },
    {
     "name": "stdout",
     "output_type": "stream",
     "text": [
      "5355.46 Mb, 1445.59 Mb (73.01 %)\n"
     ]
    }
   ],
   "source": [
    "long_train = reduce_mem(long_train, cols)\n",
    "long_teat = reduce_mem(long_test, cols)"
   ]
  },
  {
   "cell_type": "code",
   "execution_count": 153,
   "id": "55f551fa",
   "metadata": {},
   "outputs": [
    {
     "name": "stdout",
     "output_type": "stream",
     "text": [
      "Training until validation scores don't improve for 8 rounds\n",
      "[100]\tvalid_0's l2: 0.917781\n",
      "[200]\tvalid_0's l2: 0.915033\n",
      "[300]\tvalid_0's l2: 0.913899\n",
      "[400]\tvalid_0's l2: 0.913114\n",
      "[500]\tvalid_0's l2: 0.912581\n",
      "Did not meet early stopping. Best iteration is:\n",
      "[500]\tvalid_0's l2: 0.912581\n"
     ]
    },
    {
     "data": {
      "text/plain": [
       "LGBMRegressor(colsample_bytree=0.8, learning_rate=0.05, n_estimators=500,\n",
       "              num_leaves=63, random_state=2021, subsample=0.8)"
      ]
     },
     "execution_count": 153,
     "metadata": {},
     "output_type": "execute_result"
    }
   ],
   "source": [
    "from lightgbm.sklearn import LGBMRegressor\n",
    "from sklearn.metrics import roc_auc_score\n",
    "LGBM = LGBMRegressor(\n",
    "        learning_rate=0.05,\n",
    "        n_estimators=500,\n",
    "        num_leaves=63,\n",
    "        subsample=0.8,\n",
    "        colsample_bytree=0.8,\n",
    "        random_state=2021\n",
    "    )\n",
    "LGBM.fit(\n",
    "        long_train[cols], long_train[ratingcols],\n",
    "        eval_set=[(long_train[cols], long_train[ratingcols])],\n",
    "        early_stopping_rounds=8,\n",
    "        verbose=100,\n",
    "    )"
   ]
  },
  {
   "cell_type": "code",
   "execution_count": 156,
   "id": "d3bfa70c",
   "metadata": {},
   "outputs": [],
   "source": [
    "long_test['pred_rating'] = LGBM.predict(long_test[cols])"
   ]
  },
  {
   "cell_type": "code",
   "execution_count": 157,
   "id": "85f657c8",
   "metadata": {},
   "outputs": [
    {
     "data": {
      "text/html": [
       "<div>\n",
       "<style scoped>\n",
       "    .dataframe tbody tr th:only-of-type {\n",
       "        vertical-align: middle;\n",
       "    }\n",
       "\n",
       "    .dataframe tbody tr th {\n",
       "        vertical-align: top;\n",
       "    }\n",
       "\n",
       "    .dataframe thead th {\n",
       "        text-align: right;\n",
       "    }\n",
       "</style>\n",
       "<table border=\"1\" class=\"dataframe\">\n",
       "  <thead>\n",
       "    <tr style=\"text-align: right;\">\n",
       "      <th></th>\n",
       "      <th>userId</th>\n",
       "      <th>movieId</th>\n",
       "      <th>rating</th>\n",
       "      <th>timestamp</th>\n",
       "      <th>0</th>\n",
       "      <th>1</th>\n",
       "      <th>2</th>\n",
       "      <th>3</th>\n",
       "      <th>4</th>\n",
       "      <th>5</th>\n",
       "      <th>...</th>\n",
       "      <th>124</th>\n",
       "      <th>125</th>\n",
       "      <th>126</th>\n",
       "      <th>127</th>\n",
       "      <th>128</th>\n",
       "      <th>129</th>\n",
       "      <th>130</th>\n",
       "      <th>131</th>\n",
       "      <th>132</th>\n",
       "      <th>pred_rating</th>\n",
       "    </tr>\n",
       "  </thead>\n",
       "  <tbody>\n",
       "    <tr>\n",
       "      <th>0</th>\n",
       "      <td>1</td>\n",
       "      <td>296</td>\n",
       "      <td>5.0</td>\n",
       "      <td>1147880044</td>\n",
       "      <td>4.789062</td>\n",
       "      <td>2.207031</td>\n",
       "      <td>2.001953</td>\n",
       "      <td>-0.806152</td>\n",
       "      <td>2.117188</td>\n",
       "      <td>0.731934</td>\n",
       "      <td>...</td>\n",
       "      <td>-0.059784</td>\n",
       "      <td>-0.192749</td>\n",
       "      <td>0.092529</td>\n",
       "      <td>0.010818</td>\n",
       "      <td>0.046326</td>\n",
       "      <td>0.118591</td>\n",
       "      <td>-0.056213</td>\n",
       "      <td>-0.019638</td>\n",
       "      <td>-0.127075</td>\n",
       "      <td>4.203825</td>\n",
       "    </tr>\n",
       "    <tr>\n",
       "      <th>3</th>\n",
       "      <td>1</td>\n",
       "      <td>665</td>\n",
       "      <td>5.0</td>\n",
       "      <td>1147878820</td>\n",
       "      <td>2.263672</td>\n",
       "      <td>-0.978516</td>\n",
       "      <td>-0.029236</td>\n",
       "      <td>0.822754</td>\n",
       "      <td>-0.605469</td>\n",
       "      <td>0.310791</td>\n",
       "      <td>...</td>\n",
       "      <td>0.082336</td>\n",
       "      <td>-0.283447</td>\n",
       "      <td>0.322998</td>\n",
       "      <td>0.013885</td>\n",
       "      <td>-0.156738</td>\n",
       "      <td>-0.248413</td>\n",
       "      <td>-0.093689</td>\n",
       "      <td>-0.137695</td>\n",
       "      <td>-0.032196</td>\n",
       "      <td>3.950197</td>\n",
       "    </tr>\n",
       "    <tr>\n",
       "      <th>17</th>\n",
       "      <td>1</td>\n",
       "      <td>2573</td>\n",
       "      <td>4.0</td>\n",
       "      <td>1147878923</td>\n",
       "      <td>-0.412598</td>\n",
       "      <td>-1.455078</td>\n",
       "      <td>0.037292</td>\n",
       "      <td>0.370361</td>\n",
       "      <td>-0.588867</td>\n",
       "      <td>0.061676</td>\n",
       "      <td>...</td>\n",
       "      <td>0.131104</td>\n",
       "      <td>-0.019257</td>\n",
       "      <td>-0.098755</td>\n",
       "      <td>0.042206</td>\n",
       "      <td>0.044281</td>\n",
       "      <td>-0.010376</td>\n",
       "      <td>-0.123901</td>\n",
       "      <td>-0.061615</td>\n",
       "      <td>-0.121826</td>\n",
       "      <td>3.401111</td>\n",
       "    </tr>\n",
       "    <tr>\n",
       "      <th>22</th>\n",
       "      <td>1</td>\n",
       "      <td>3569</td>\n",
       "      <td>5.0</td>\n",
       "      <td>1147879603</td>\n",
       "      <td>0.109009</td>\n",
       "      <td>-1.827148</td>\n",
       "      <td>0.930664</td>\n",
       "      <td>0.124512</td>\n",
       "      <td>0.237915</td>\n",
       "      <td>-0.721680</td>\n",
       "      <td>...</td>\n",
       "      <td>-0.033386</td>\n",
       "      <td>-0.243896</td>\n",
       "      <td>-0.054810</td>\n",
       "      <td>0.067322</td>\n",
       "      <td>0.077454</td>\n",
       "      <td>-0.172974</td>\n",
       "      <td>-0.275879</td>\n",
       "      <td>0.066101</td>\n",
       "      <td>0.039673</td>\n",
       "      <td>3.556726</td>\n",
       "    </tr>\n",
       "    <tr>\n",
       "      <th>31</th>\n",
       "      <td>1</td>\n",
       "      <td>5269</td>\n",
       "      <td>0.5</td>\n",
       "      <td>1147879571</td>\n",
       "      <td>1.741211</td>\n",
       "      <td>-2.060547</td>\n",
       "      <td>1.754883</td>\n",
       "      <td>0.466797</td>\n",
       "      <td>0.282715</td>\n",
       "      <td>-1.029297</td>\n",
       "      <td>...</td>\n",
       "      <td>0.104553</td>\n",
       "      <td>-0.045044</td>\n",
       "      <td>-0.187622</td>\n",
       "      <td>-0.018768</td>\n",
       "      <td>-0.183472</td>\n",
       "      <td>-0.048004</td>\n",
       "      <td>-0.054779</td>\n",
       "      <td>0.063721</td>\n",
       "      <td>0.013390</td>\n",
       "      <td>3.608674</td>\n",
       "    </tr>\n",
       "  </tbody>\n",
       "</table>\n",
       "<p>5 rows × 138 columns</p>\n",
       "</div>"
      ],
      "text/plain": [
       "    userId  movieId  rating   timestamp         0         1         2  \\\n",
       "0        1      296     5.0  1147880044  4.789062  2.207031  2.001953   \n",
       "3        1      665     5.0  1147878820  2.263672 -0.978516 -0.029236   \n",
       "17       1     2573     4.0  1147878923 -0.412598 -1.455078  0.037292   \n",
       "22       1     3569     5.0  1147879603  0.109009 -1.827148  0.930664   \n",
       "31       1     5269     0.5  1147879571  1.741211 -2.060547  1.754883   \n",
       "\n",
       "           3         4         5  ...       124       125       126       127  \\\n",
       "0  -0.806152  2.117188  0.731934  ... -0.059784 -0.192749  0.092529  0.010818   \n",
       "3   0.822754 -0.605469  0.310791  ...  0.082336 -0.283447  0.322998  0.013885   \n",
       "17  0.370361 -0.588867  0.061676  ...  0.131104 -0.019257 -0.098755  0.042206   \n",
       "22  0.124512  0.237915 -0.721680  ... -0.033386 -0.243896 -0.054810  0.067322   \n",
       "31  0.466797  0.282715 -1.029297  ...  0.104553 -0.045044 -0.187622 -0.018768   \n",
       "\n",
       "         128       129       130       131       132  pred_rating  \n",
       "0   0.046326  0.118591 -0.056213 -0.019638 -0.127075     4.203825  \n",
       "3  -0.156738 -0.248413 -0.093689 -0.137695 -0.032196     3.950197  \n",
       "17  0.044281 -0.010376 -0.123901 -0.061615 -0.121826     3.401111  \n",
       "22  0.077454 -0.172974 -0.275879  0.066101  0.039673     3.556726  \n",
       "31 -0.183472 -0.048004 -0.054779  0.063721  0.013390     3.608674  \n",
       "\n",
       "[5 rows x 138 columns]"
      ]
     },
     "execution_count": 157,
     "metadata": {},
     "output_type": "execute_result"
    }
   ],
   "source": [
    "long_test.head()"
   ]
  },
  {
   "cell_type": "code",
   "execution_count": 162,
   "id": "bcfa4034",
   "metadata": {},
   "outputs": [],
   "source": [
    "test_out = pd.concat((long_test['userId'],long_test['movieId'],long_test['rating'],long_test['pred_rating']),axis=1)\n",
    "test_out.to_csv(base_dir+'out_base.csv')"
   ]
  },
  {
   "cell_type": "code",
   "execution_count": 168,
   "id": "03aa5309",
   "metadata": {},
   "outputs": [],
   "source": [
    "long_train['movie_rating_mean'] = long_train.groupby('movieId')['rating'].transform('mean')\n",
    "long_train['user_rating_mean'] = long_train.groupby('userId')['rating'].transform('mean')"
   ]
  },
  {
   "cell_type": "code",
   "execution_count": 176,
   "id": "241262a1",
   "metadata": {},
   "outputs": [],
   "source": [
    "avg_rating_movie = long_train[['movieId','movie_rating_mean']].drop_duplicates().set_index('movieId')\n",
    "avg_rating_user = long_train[['userId','user_rating_mean']].drop_duplicates().set_index('userId')"
   ]
  },
  {
   "cell_type": "code",
   "execution_count": 177,
   "id": "e81ac44c",
   "metadata": {},
   "outputs": [],
   "source": [
    "long_test = long_test.join(avg_rating_user, on = 'userId')"
   ]
  },
  {
   "cell_type": "code",
   "execution_count": 178,
   "id": "124a54ed",
   "metadata": {},
   "outputs": [],
   "source": [
    "long_test = long_test.join(avg_rating_movie, on = 'movieId')"
   ]
  },
  {
   "cell_type": "code",
   "execution_count": 179,
   "id": "5b3dd4a7",
   "metadata": {},
   "outputs": [
    {
     "data": {
      "text/html": [
       "<div>\n",
       "<style scoped>\n",
       "    .dataframe tbody tr th:only-of-type {\n",
       "        vertical-align: middle;\n",
       "    }\n",
       "\n",
       "    .dataframe tbody tr th {\n",
       "        vertical-align: top;\n",
       "    }\n",
       "\n",
       "    .dataframe thead th {\n",
       "        text-align: right;\n",
       "    }\n",
       "</style>\n",
       "<table border=\"1\" class=\"dataframe\">\n",
       "  <thead>\n",
       "    <tr style=\"text-align: right;\">\n",
       "      <th></th>\n",
       "      <th>userId</th>\n",
       "      <th>movieId</th>\n",
       "      <th>rating</th>\n",
       "      <th>timestamp</th>\n",
       "      <th>0</th>\n",
       "      <th>1</th>\n",
       "      <th>2</th>\n",
       "      <th>3</th>\n",
       "      <th>4</th>\n",
       "      <th>5</th>\n",
       "      <th>...</th>\n",
       "      <th>126</th>\n",
       "      <th>127</th>\n",
       "      <th>128</th>\n",
       "      <th>129</th>\n",
       "      <th>130</th>\n",
       "      <th>131</th>\n",
       "      <th>132</th>\n",
       "      <th>pred_rating</th>\n",
       "      <th>user_rating_mean</th>\n",
       "      <th>movie_rating_mean</th>\n",
       "    </tr>\n",
       "  </thead>\n",
       "  <tbody>\n",
       "    <tr>\n",
       "      <th>0</th>\n",
       "      <td>1</td>\n",
       "      <td>296</td>\n",
       "      <td>5.0</td>\n",
       "      <td>1147880044</td>\n",
       "      <td>4.789062</td>\n",
       "      <td>2.207031</td>\n",
       "      <td>2.001953</td>\n",
       "      <td>-0.806152</td>\n",
       "      <td>2.117188</td>\n",
       "      <td>0.731934</td>\n",
       "      <td>...</td>\n",
       "      <td>0.092529</td>\n",
       "      <td>0.010818</td>\n",
       "      <td>0.046326</td>\n",
       "      <td>0.118591</td>\n",
       "      <td>-0.056213</td>\n",
       "      <td>-0.019638</td>\n",
       "      <td>-0.127075</td>\n",
       "      <td>4.203825</td>\n",
       "      <td>3.861111</td>\n",
       "      <td>4.194532</td>\n",
       "    </tr>\n",
       "    <tr>\n",
       "      <th>3</th>\n",
       "      <td>1</td>\n",
       "      <td>665</td>\n",
       "      <td>5.0</td>\n",
       "      <td>1147878820</td>\n",
       "      <td>2.263672</td>\n",
       "      <td>-0.978516</td>\n",
       "      <td>-0.029236</td>\n",
       "      <td>0.822754</td>\n",
       "      <td>-0.605469</td>\n",
       "      <td>0.310791</td>\n",
       "      <td>...</td>\n",
       "      <td>0.322998</td>\n",
       "      <td>0.013885</td>\n",
       "      <td>-0.156738</td>\n",
       "      <td>-0.248413</td>\n",
       "      <td>-0.093689</td>\n",
       "      <td>-0.137695</td>\n",
       "      <td>-0.032196</td>\n",
       "      <td>3.950197</td>\n",
       "      <td>3.861111</td>\n",
       "      <td>3.955272</td>\n",
       "    </tr>\n",
       "    <tr>\n",
       "      <th>17</th>\n",
       "      <td>1</td>\n",
       "      <td>2573</td>\n",
       "      <td>4.0</td>\n",
       "      <td>1147878923</td>\n",
       "      <td>-0.412598</td>\n",
       "      <td>-1.455078</td>\n",
       "      <td>0.037292</td>\n",
       "      <td>0.370361</td>\n",
       "      <td>-0.588867</td>\n",
       "      <td>0.061676</td>\n",
       "      <td>...</td>\n",
       "      <td>-0.098755</td>\n",
       "      <td>0.042206</td>\n",
       "      <td>0.044281</td>\n",
       "      <td>-0.010376</td>\n",
       "      <td>-0.123901</td>\n",
       "      <td>-0.061615</td>\n",
       "      <td>-0.121826</td>\n",
       "      <td>3.401111</td>\n",
       "      <td>3.861111</td>\n",
       "      <td>3.260081</td>\n",
       "    </tr>\n",
       "    <tr>\n",
       "      <th>22</th>\n",
       "      <td>1</td>\n",
       "      <td>3569</td>\n",
       "      <td>5.0</td>\n",
       "      <td>1147879603</td>\n",
       "      <td>0.109009</td>\n",
       "      <td>-1.827148</td>\n",
       "      <td>0.930664</td>\n",
       "      <td>0.124512</td>\n",
       "      <td>0.237915</td>\n",
       "      <td>-0.721680</td>\n",
       "      <td>...</td>\n",
       "      <td>-0.054810</td>\n",
       "      <td>0.067322</td>\n",
       "      <td>0.077454</td>\n",
       "      <td>-0.172974</td>\n",
       "      <td>-0.275879</td>\n",
       "      <td>0.066101</td>\n",
       "      <td>0.039673</td>\n",
       "      <td>3.556726</td>\n",
       "      <td>3.861111</td>\n",
       "      <td>3.555252</td>\n",
       "    </tr>\n",
       "    <tr>\n",
       "      <th>31</th>\n",
       "      <td>1</td>\n",
       "      <td>5269</td>\n",
       "      <td>0.5</td>\n",
       "      <td>1147879571</td>\n",
       "      <td>1.741211</td>\n",
       "      <td>-2.060547</td>\n",
       "      <td>1.754883</td>\n",
       "      <td>0.466797</td>\n",
       "      <td>0.282715</td>\n",
       "      <td>-1.029297</td>\n",
       "      <td>...</td>\n",
       "      <td>-0.187622</td>\n",
       "      <td>-0.018768</td>\n",
       "      <td>-0.183472</td>\n",
       "      <td>-0.048004</td>\n",
       "      <td>-0.054779</td>\n",
       "      <td>0.063721</td>\n",
       "      <td>0.013390</td>\n",
       "      <td>3.608674</td>\n",
       "      <td>3.861111</td>\n",
       "      <td>3.595533</td>\n",
       "    </tr>\n",
       "  </tbody>\n",
       "</table>\n",
       "<p>5 rows × 140 columns</p>\n",
       "</div>"
      ],
      "text/plain": [
       "    userId  movieId  rating   timestamp         0         1         2  \\\n",
       "0        1      296     5.0  1147880044  4.789062  2.207031  2.001953   \n",
       "3        1      665     5.0  1147878820  2.263672 -0.978516 -0.029236   \n",
       "17       1     2573     4.0  1147878923 -0.412598 -1.455078  0.037292   \n",
       "22       1     3569     5.0  1147879603  0.109009 -1.827148  0.930664   \n",
       "31       1     5269     0.5  1147879571  1.741211 -2.060547  1.754883   \n",
       "\n",
       "           3         4         5  ...       126       127       128       129  \\\n",
       "0  -0.806152  2.117188  0.731934  ...  0.092529  0.010818  0.046326  0.118591   \n",
       "3   0.822754 -0.605469  0.310791  ...  0.322998  0.013885 -0.156738 -0.248413   \n",
       "17  0.370361 -0.588867  0.061676  ... -0.098755  0.042206  0.044281 -0.010376   \n",
       "22  0.124512  0.237915 -0.721680  ... -0.054810  0.067322  0.077454 -0.172974   \n",
       "31  0.466797  0.282715 -1.029297  ... -0.187622 -0.018768 -0.183472 -0.048004   \n",
       "\n",
       "         130       131       132  pred_rating  user_rating_mean  \\\n",
       "0  -0.056213 -0.019638 -0.127075     4.203825          3.861111   \n",
       "3  -0.093689 -0.137695 -0.032196     3.950197          3.861111   \n",
       "17 -0.123901 -0.061615 -0.121826     3.401111          3.861111   \n",
       "22 -0.275879  0.066101  0.039673     3.556726          3.861111   \n",
       "31 -0.054779  0.063721  0.013390     3.608674          3.861111   \n",
       "\n",
       "    movie_rating_mean  \n",
       "0            4.194532  \n",
       "3            3.955272  \n",
       "17           3.260081  \n",
       "22           3.555252  \n",
       "31           3.595533  \n",
       "\n",
       "[5 rows x 140 columns]"
      ]
     },
     "execution_count": 179,
     "metadata": {},
     "output_type": "execute_result"
    }
   ],
   "source": [
    "long_test.head()"
   ]
  },
  {
   "cell_type": "code",
   "execution_count": 195,
   "id": "0ff23805",
   "metadata": {},
   "outputs": [
    {
     "name": "stdout",
     "output_type": "stream",
     "text": [
      "2344\n"
     ]
    }
   ],
   "source": [
    "na_check = long_test['user_rating_mean'].isna()\n",
    "problem_users = na_check[na_check!=False].index.tolist()\n",
    "print(len(problem_users))"
   ]
  },
  {
   "cell_type": "code",
   "execution_count": 198,
   "id": "b4dd2bc6",
   "metadata": {},
   "outputs": [
    {
     "name": "stdout",
     "output_type": "stream",
     "text": [
      "<class 'int'>\n"
     ]
    }
   ],
   "source": [
    "print(type(problem_users[0]))"
   ]
  },
  {
   "cell_type": "code",
   "execution_count": 199,
   "id": "9c17fe0f",
   "metadata": {},
   "outputs": [
    {
     "data": {
      "text/html": [
       "<div>\n",
       "<style scoped>\n",
       "    .dataframe tbody tr th:only-of-type {\n",
       "        vertical-align: middle;\n",
       "    }\n",
       "\n",
       "    .dataframe tbody tr th {\n",
       "        vertical-align: top;\n",
       "    }\n",
       "\n",
       "    .dataframe thead th {\n",
       "        text-align: right;\n",
       "    }\n",
       "</style>\n",
       "<table border=\"1\" class=\"dataframe\">\n",
       "  <thead>\n",
       "    <tr style=\"text-align: right;\">\n",
       "      <th></th>\n",
       "      <th>userId</th>\n",
       "      <th>movieId</th>\n",
       "      <th>rating</th>\n",
       "      <th>timestamp</th>\n",
       "      <th>0</th>\n",
       "      <th>1</th>\n",
       "      <th>2</th>\n",
       "      <th>3</th>\n",
       "      <th>4</th>\n",
       "      <th>5</th>\n",
       "      <th>...</th>\n",
       "      <th>126</th>\n",
       "      <th>127</th>\n",
       "      <th>128</th>\n",
       "      <th>129</th>\n",
       "      <th>130</th>\n",
       "      <th>131</th>\n",
       "      <th>132</th>\n",
       "      <th>pred_rating</th>\n",
       "      <th>user_rating_mean</th>\n",
       "      <th>movie_rating_mean</th>\n",
       "    </tr>\n",
       "  </thead>\n",
       "  <tbody>\n",
       "    <tr>\n",
       "      <th>0</th>\n",
       "      <td>1</td>\n",
       "      <td>296</td>\n",
       "      <td>5.0</td>\n",
       "      <td>1147880044</td>\n",
       "      <td>4.789062</td>\n",
       "      <td>2.207031</td>\n",
       "      <td>2.001953</td>\n",
       "      <td>-0.806152</td>\n",
       "      <td>2.117188</td>\n",
       "      <td>0.731934</td>\n",
       "      <td>...</td>\n",
       "      <td>0.092529</td>\n",
       "      <td>0.010818</td>\n",
       "      <td>0.046326</td>\n",
       "      <td>0.118591</td>\n",
       "      <td>-0.056213</td>\n",
       "      <td>-0.019638</td>\n",
       "      <td>-0.127075</td>\n",
       "      <td>4.203825</td>\n",
       "      <td>3.861111</td>\n",
       "      <td>4.194532</td>\n",
       "    </tr>\n",
       "    <tr>\n",
       "      <th>3</th>\n",
       "      <td>1</td>\n",
       "      <td>665</td>\n",
       "      <td>5.0</td>\n",
       "      <td>1147878820</td>\n",
       "      <td>2.263672</td>\n",
       "      <td>-0.978516</td>\n",
       "      <td>-0.029236</td>\n",
       "      <td>0.822754</td>\n",
       "      <td>-0.605469</td>\n",
       "      <td>0.310791</td>\n",
       "      <td>...</td>\n",
       "      <td>0.322998</td>\n",
       "      <td>0.013885</td>\n",
       "      <td>-0.156738</td>\n",
       "      <td>-0.248413</td>\n",
       "      <td>-0.093689</td>\n",
       "      <td>-0.137695</td>\n",
       "      <td>-0.032196</td>\n",
       "      <td>3.950197</td>\n",
       "      <td>3.861111</td>\n",
       "      <td>3.955272</td>\n",
       "    </tr>\n",
       "    <tr>\n",
       "      <th>17</th>\n",
       "      <td>1</td>\n",
       "      <td>2573</td>\n",
       "      <td>4.0</td>\n",
       "      <td>1147878923</td>\n",
       "      <td>-0.412598</td>\n",
       "      <td>-1.455078</td>\n",
       "      <td>0.037292</td>\n",
       "      <td>0.370361</td>\n",
       "      <td>-0.588867</td>\n",
       "      <td>0.061676</td>\n",
       "      <td>...</td>\n",
       "      <td>-0.098755</td>\n",
       "      <td>0.042206</td>\n",
       "      <td>0.044281</td>\n",
       "      <td>-0.010376</td>\n",
       "      <td>-0.123901</td>\n",
       "      <td>-0.061615</td>\n",
       "      <td>-0.121826</td>\n",
       "      <td>3.401111</td>\n",
       "      <td>3.861111</td>\n",
       "      <td>3.260081</td>\n",
       "    </tr>\n",
       "    <tr>\n",
       "      <th>22</th>\n",
       "      <td>1</td>\n",
       "      <td>3569</td>\n",
       "      <td>5.0</td>\n",
       "      <td>1147879603</td>\n",
       "      <td>0.109009</td>\n",
       "      <td>-1.827148</td>\n",
       "      <td>0.930664</td>\n",
       "      <td>0.124512</td>\n",
       "      <td>0.237915</td>\n",
       "      <td>-0.721680</td>\n",
       "      <td>...</td>\n",
       "      <td>-0.054810</td>\n",
       "      <td>0.067322</td>\n",
       "      <td>0.077454</td>\n",
       "      <td>-0.172974</td>\n",
       "      <td>-0.275879</td>\n",
       "      <td>0.066101</td>\n",
       "      <td>0.039673</td>\n",
       "      <td>3.556726</td>\n",
       "      <td>3.861111</td>\n",
       "      <td>3.555252</td>\n",
       "    </tr>\n",
       "    <tr>\n",
       "      <th>31</th>\n",
       "      <td>1</td>\n",
       "      <td>5269</td>\n",
       "      <td>0.5</td>\n",
       "      <td>1147879571</td>\n",
       "      <td>1.741211</td>\n",
       "      <td>-2.060547</td>\n",
       "      <td>1.754883</td>\n",
       "      <td>0.466797</td>\n",
       "      <td>0.282715</td>\n",
       "      <td>-1.029297</td>\n",
       "      <td>...</td>\n",
       "      <td>-0.187622</td>\n",
       "      <td>-0.018768</td>\n",
       "      <td>-0.183472</td>\n",
       "      <td>-0.048004</td>\n",
       "      <td>-0.054779</td>\n",
       "      <td>0.063721</td>\n",
       "      <td>0.013390</td>\n",
       "      <td>3.608674</td>\n",
       "      <td>3.861111</td>\n",
       "      <td>3.595533</td>\n",
       "    </tr>\n",
       "    <tr>\n",
       "      <th>...</th>\n",
       "      <td>...</td>\n",
       "      <td>...</td>\n",
       "      <td>...</td>\n",
       "      <td>...</td>\n",
       "      <td>...</td>\n",
       "      <td>...</td>\n",
       "      <td>...</td>\n",
       "      <td>...</td>\n",
       "      <td>...</td>\n",
       "      <td>...</td>\n",
       "      <td>...</td>\n",
       "      <td>...</td>\n",
       "      <td>...</td>\n",
       "      <td>...</td>\n",
       "      <td>...</td>\n",
       "      <td>...</td>\n",
       "      <td>...</td>\n",
       "      <td>...</td>\n",
       "      <td>...</td>\n",
       "      <td>...</td>\n",
       "      <td>...</td>\n",
       "    </tr>\n",
       "    <tr>\n",
       "      <th>25000085</th>\n",
       "      <td>162541</td>\n",
       "      <td>8983</td>\n",
       "      <td>4.5</td>\n",
       "      <td>1240953211</td>\n",
       "      <td>2.007812</td>\n",
       "      <td>1.733398</td>\n",
       "      <td>-0.331543</td>\n",
       "      <td>1.373047</td>\n",
       "      <td>-0.775391</td>\n",
       "      <td>0.198608</td>\n",
       "      <td>...</td>\n",
       "      <td>-0.104248</td>\n",
       "      <td>0.031052</td>\n",
       "      <td>0.090637</td>\n",
       "      <td>0.036591</td>\n",
       "      <td>-0.067566</td>\n",
       "      <td>0.029129</td>\n",
       "      <td>0.018677</td>\n",
       "      <td>3.738701</td>\n",
       "      <td>3.165517</td>\n",
       "      <td>3.708509</td>\n",
       "    </tr>\n",
       "    <tr>\n",
       "      <th>25000086</th>\n",
       "      <td>162541</td>\n",
       "      <td>31658</td>\n",
       "      <td>4.5</td>\n",
       "      <td>1240953287</td>\n",
       "      <td>2.222656</td>\n",
       "      <td>0.800293</td>\n",
       "      <td>-1.211914</td>\n",
       "      <td>2.583984</td>\n",
       "      <td>0.001297</td>\n",
       "      <td>0.488770</td>\n",
       "      <td>...</td>\n",
       "      <td>0.121948</td>\n",
       "      <td>0.182129</td>\n",
       "      <td>-0.249146</td>\n",
       "      <td>0.034546</td>\n",
       "      <td>0.026276</td>\n",
       "      <td>-0.127441</td>\n",
       "      <td>-0.029053</td>\n",
       "      <td>4.115071</td>\n",
       "      <td>3.165517</td>\n",
       "      <td>4.116540</td>\n",
       "    </tr>\n",
       "    <tr>\n",
       "      <th>25000089</th>\n",
       "      <td>162541</td>\n",
       "      <td>45517</td>\n",
       "      <td>4.5</td>\n",
       "      <td>1240953353</td>\n",
       "      <td>-1.258789</td>\n",
       "      <td>1.484375</td>\n",
       "      <td>-1.844727</td>\n",
       "      <td>1.081055</td>\n",
       "      <td>0.615234</td>\n",
       "      <td>0.913574</td>\n",
       "      <td>...</td>\n",
       "      <td>-0.036957</td>\n",
       "      <td>-0.159546</td>\n",
       "      <td>-0.087769</td>\n",
       "      <td>0.025101</td>\n",
       "      <td>0.104126</td>\n",
       "      <td>-0.136353</td>\n",
       "      <td>-0.205811</td>\n",
       "      <td>3.388982</td>\n",
       "      <td>3.165517</td>\n",
       "      <td>3.306490</td>\n",
       "    </tr>\n",
       "    <tr>\n",
       "      <th>25000090</th>\n",
       "      <td>162541</td>\n",
       "      <td>50872</td>\n",
       "      <td>4.5</td>\n",
       "      <td>1240953372</td>\n",
       "      <td>0.559082</td>\n",
       "      <td>1.273438</td>\n",
       "      <td>-2.320312</td>\n",
       "      <td>1.638672</td>\n",
       "      <td>0.761719</td>\n",
       "      <td>1.118164</td>\n",
       "      <td>...</td>\n",
       "      <td>-0.088806</td>\n",
       "      <td>-0.141479</td>\n",
       "      <td>-0.304199</td>\n",
       "      <td>0.044983</td>\n",
       "      <td>0.034149</td>\n",
       "      <td>-0.115601</td>\n",
       "      <td>-0.083557</td>\n",
       "      <td>3.819650</td>\n",
       "      <td>3.165517</td>\n",
       "      <td>3.807885</td>\n",
       "    </tr>\n",
       "    <tr>\n",
       "      <th>25000093</th>\n",
       "      <td>162541</td>\n",
       "      <td>58559</td>\n",
       "      <td>4.0</td>\n",
       "      <td>1240953434</td>\n",
       "      <td>3.414062</td>\n",
       "      <td>4.500000</td>\n",
       "      <td>0.034271</td>\n",
       "      <td>0.502441</td>\n",
       "      <td>0.015930</td>\n",
       "      <td>-0.438477</td>\n",
       "      <td>...</td>\n",
       "      <td>-0.059570</td>\n",
       "      <td>-0.003103</td>\n",
       "      <td>0.035675</td>\n",
       "      <td>-0.128418</td>\n",
       "      <td>-0.110779</td>\n",
       "      <td>-0.218018</td>\n",
       "      <td>-0.045502</td>\n",
       "      <td>4.228137</td>\n",
       "      <td>3.165517</td>\n",
       "      <td>4.173796</td>\n",
       "    </tr>\n",
       "  </tbody>\n",
       "</table>\n",
       "<p>5084259 rows × 140 columns</p>\n",
       "</div>"
      ],
      "text/plain": [
       "          userId  movieId  rating   timestamp         0         1         2  \\\n",
       "0              1      296     5.0  1147880044  4.789062  2.207031  2.001953   \n",
       "3              1      665     5.0  1147878820  2.263672 -0.978516 -0.029236   \n",
       "17             1     2573     4.0  1147878923 -0.412598 -1.455078  0.037292   \n",
       "22             1     3569     5.0  1147879603  0.109009 -1.827148  0.930664   \n",
       "31             1     5269     0.5  1147879571  1.741211 -2.060547  1.754883   \n",
       "...          ...      ...     ...         ...       ...       ...       ...   \n",
       "25000085  162541     8983     4.5  1240953211  2.007812  1.733398 -0.331543   \n",
       "25000086  162541    31658     4.5  1240953287  2.222656  0.800293 -1.211914   \n",
       "25000089  162541    45517     4.5  1240953353 -1.258789  1.484375 -1.844727   \n",
       "25000090  162541    50872     4.5  1240953372  0.559082  1.273438 -2.320312   \n",
       "25000093  162541    58559     4.0  1240953434  3.414062  4.500000  0.034271   \n",
       "\n",
       "                 3         4         5  ...       126       127       128  \\\n",
       "0        -0.806152  2.117188  0.731934  ...  0.092529  0.010818  0.046326   \n",
       "3         0.822754 -0.605469  0.310791  ...  0.322998  0.013885 -0.156738   \n",
       "17        0.370361 -0.588867  0.061676  ... -0.098755  0.042206  0.044281   \n",
       "22        0.124512  0.237915 -0.721680  ... -0.054810  0.067322  0.077454   \n",
       "31        0.466797  0.282715 -1.029297  ... -0.187622 -0.018768 -0.183472   \n",
       "...            ...       ...       ...  ...       ...       ...       ...   \n",
       "25000085  1.373047 -0.775391  0.198608  ... -0.104248  0.031052  0.090637   \n",
       "25000086  2.583984  0.001297  0.488770  ...  0.121948  0.182129 -0.249146   \n",
       "25000089  1.081055  0.615234  0.913574  ... -0.036957 -0.159546 -0.087769   \n",
       "25000090  1.638672  0.761719  1.118164  ... -0.088806 -0.141479 -0.304199   \n",
       "25000093  0.502441  0.015930 -0.438477  ... -0.059570 -0.003103  0.035675   \n",
       "\n",
       "               129       130       131       132  pred_rating  \\\n",
       "0         0.118591 -0.056213 -0.019638 -0.127075     4.203825   \n",
       "3        -0.248413 -0.093689 -0.137695 -0.032196     3.950197   \n",
       "17       -0.010376 -0.123901 -0.061615 -0.121826     3.401111   \n",
       "22       -0.172974 -0.275879  0.066101  0.039673     3.556726   \n",
       "31       -0.048004 -0.054779  0.063721  0.013390     3.608674   \n",
       "...            ...       ...       ...       ...          ...   \n",
       "25000085  0.036591 -0.067566  0.029129  0.018677     3.738701   \n",
       "25000086  0.034546  0.026276 -0.127441 -0.029053     4.115071   \n",
       "25000089  0.025101  0.104126 -0.136353 -0.205811     3.388982   \n",
       "25000090  0.044983  0.034149 -0.115601 -0.083557     3.819650   \n",
       "25000093 -0.128418 -0.110779 -0.218018 -0.045502     4.228137   \n",
       "\n",
       "          user_rating_mean  movie_rating_mean  \n",
       "0                 3.861111           4.194532  \n",
       "3                 3.861111           3.955272  \n",
       "17                3.861111           3.260081  \n",
       "22                3.861111           3.555252  \n",
       "31                3.861111           3.595533  \n",
       "...                    ...                ...  \n",
       "25000085          3.165517           3.708509  \n",
       "25000086          3.165517           4.116540  \n",
       "25000089          3.165517           3.306490  \n",
       "25000090          3.165517           3.807885  \n",
       "25000093          3.165517           4.173796  \n",
       "\n",
       "[5084259 rows x 140 columns]"
      ]
     },
     "execution_count": 199,
     "metadata": {},
     "output_type": "execute_result"
    }
   ],
   "source": [
    "long_test.drop(problem_users)"
   ]
  },
  {
   "cell_type": "code",
   "execution_count": 227,
   "id": "c5c3c941",
   "metadata": {},
   "outputs": [],
   "source": [
    "LGBM = LGBMRegressor(\n",
    "        learning_rate=0.05,\n",
    "        n_estimators=1000,\n",
    "        num_leaves=31,\n",
    "        subsample=0.8,\n",
    "        colsample_bytree=0.8,\n",
    "    )"
   ]
  },
  {
   "cell_type": "code",
   "execution_count": 228,
   "id": "da03d61b",
   "metadata": {},
   "outputs": [
    {
     "name": "stdout",
     "output_type": "stream",
     "text": [
      "Training until validation scores don't improve for 8 rounds\n",
      "[100]\tvalid_0's l2: 0.742677\n",
      "[200]\tvalid_0's l2: 0.74134\n",
      "[300]\tvalid_0's l2: 0.740786\n",
      "[400]\tvalid_0's l2: 0.740403\n",
      "[500]\tvalid_0's l2: 0.740078\n",
      "[600]\tvalid_0's l2: 0.739681\n",
      "[700]\tvalid_0's l2: 0.739331\n",
      "[800]\tvalid_0's l2: 0.739016\n",
      "[900]\tvalid_0's l2: 0.738707\n",
      "[1000]\tvalid_0's l2: 0.738449\n",
      "Did not meet early stopping. Best iteration is:\n",
      "[1000]\tvalid_0's l2: 0.738449\n"
     ]
    },
    {
     "data": {
      "text/plain": [
       "LGBMRegressor(colsample_bytree=0.8, learning_rate=0.05, n_estimators=1000,\n",
       "              subsample=0.8)"
      ]
     },
     "execution_count": 228,
     "metadata": {},
     "output_type": "execute_result"
    }
   ],
   "source": [
    "LGBM.fit(\n",
    "        long_train[cols], long_train[ratingcols],\n",
    "        eval_set=[(long_train[cols], long_train[ratingcols])],\n",
    "        early_stopping_rounds=8,\n",
    "        verbose=100,\n",
    "    )"
   ]
  },
  {
   "cell_type": "code",
   "execution_count": 229,
   "id": "b80dad97",
   "metadata": {},
   "outputs": [],
   "source": [
    "test_out['pred_rating_avg_500'] = LGBM.predict(long_test[cols])"
   ]
  },
  {
   "cell_type": "code",
   "execution_count": 230,
   "id": "8d1af1ef",
   "metadata": {},
   "outputs": [
    {
     "data": {
      "text/html": [
       "<div>\n",
       "<style scoped>\n",
       "    .dataframe tbody tr th:only-of-type {\n",
       "        vertical-align: middle;\n",
       "    }\n",
       "\n",
       "    .dataframe tbody tr th {\n",
       "        vertical-align: top;\n",
       "    }\n",
       "\n",
       "    .dataframe thead th {\n",
       "        text-align: right;\n",
       "    }\n",
       "</style>\n",
       "<table border=\"1\" class=\"dataframe\">\n",
       "  <thead>\n",
       "    <tr style=\"text-align: right;\">\n",
       "      <th></th>\n",
       "      <th>userId</th>\n",
       "      <th>movieId</th>\n",
       "      <th>rating</th>\n",
       "      <th>pred_rating</th>\n",
       "      <th>pred_rating_avg_500</th>\n",
       "    </tr>\n",
       "  </thead>\n",
       "  <tbody>\n",
       "    <tr>\n",
       "      <th>0</th>\n",
       "      <td>1</td>\n",
       "      <td>296</td>\n",
       "      <td>5.0</td>\n",
       "      <td>4.203825</td>\n",
       "      <td>4.287433</td>\n",
       "    </tr>\n",
       "    <tr>\n",
       "      <th>3</th>\n",
       "      <td>1</td>\n",
       "      <td>665</td>\n",
       "      <td>5.0</td>\n",
       "      <td>3.950197</td>\n",
       "      <td>4.208169</td>\n",
       "    </tr>\n",
       "    <tr>\n",
       "      <th>17</th>\n",
       "      <td>1</td>\n",
       "      <td>2573</td>\n",
       "      <td>4.0</td>\n",
       "      <td>3.401111</td>\n",
       "      <td>3.632696</td>\n",
       "    </tr>\n",
       "    <tr>\n",
       "      <th>22</th>\n",
       "      <td>1</td>\n",
       "      <td>3569</td>\n",
       "      <td>5.0</td>\n",
       "      <td>3.556726</td>\n",
       "      <td>3.863745</td>\n",
       "    </tr>\n",
       "    <tr>\n",
       "      <th>31</th>\n",
       "      <td>1</td>\n",
       "      <td>5269</td>\n",
       "      <td>0.5</td>\n",
       "      <td>3.608674</td>\n",
       "      <td>3.919102</td>\n",
       "    </tr>\n",
       "  </tbody>\n",
       "</table>\n",
       "</div>"
      ],
      "text/plain": [
       "    userId  movieId  rating  pred_rating  pred_rating_avg_500\n",
       "0        1      296     5.0     4.203825             4.287433\n",
       "3        1      665     5.0     3.950197             4.208169\n",
       "17       1     2573     4.0     3.401111             3.632696\n",
       "22       1     3569     5.0     3.556726             3.863745\n",
       "31       1     5269     0.5     3.608674             3.919102"
      ]
     },
     "execution_count": 230,
     "metadata": {},
     "output_type": "execute_result"
    }
   ],
   "source": [
    "test_out.head()"
   ]
  },
  {
   "cell_type": "markdown",
   "id": "666db545",
   "metadata": {},
   "source": [
    "User 1 bahaved abnormally in rating movie 5269"
   ]
  },
  {
   "cell_type": "code",
   "execution_count": 208,
   "id": "75e4ec45",
   "metadata": {},
   "outputs": [
    {
     "data": {
      "text/plain": [
       "movie_rating_mean    3.7477\n",
       "Name: 107771, dtype: float64"
      ]
     },
     "execution_count": 208,
     "metadata": {},
     "output_type": "execute_result"
    }
   ],
   "source": [
    "avg_rating_movie.iloc[5269]"
   ]
  },
  {
   "cell_type": "code",
   "execution_count": 209,
   "id": "29ac45b7",
   "metadata": {},
   "outputs": [
    {
     "data": {
      "text/plain": [
       "user_rating_mean    3.751701\n",
       "Name: 2, dtype: float64"
      ]
     },
     "execution_count": 209,
     "metadata": {},
     "output_type": "execute_result"
    }
   ],
   "source": [
    "avg_rating_user.iloc[1]"
   ]
  },
  {
   "cell_type": "code",
   "execution_count": 222,
   "id": "2eb54af1",
   "metadata": {},
   "outputs": [],
   "source": [
    "def MSE(actual, pred):\n",
    "    return(((actual-pred)**2).sum()/len(actual))"
   ]
  },
  {
   "cell_type": "code",
   "execution_count": 231,
   "id": "acd406ea",
   "metadata": {},
   "outputs": [
    {
     "name": "stdout",
     "output_type": "stream",
     "text": [
      "0.9176478078331806\n",
      "0.776725883732363\n"
     ]
    }
   ],
   "source": [
    "print(MSE(test_out['rating'],test_out['pred_rating']))\n",
    "print(MSE(test_out['rating'],test_out['pred_rating_avg_500']))"
   ]
  },
  {
   "cell_type": "code",
   "execution_count": 236,
   "id": "21d03ac9",
   "metadata": {},
   "outputs": [
    {
     "name": "stdout",
     "output_type": "stream",
     "text": [
      "[0]\tvalidation_0-rmse:2.34480\n",
      "[10]\tvalidation_0-rmse:0.84141\n",
      "[20]\tvalidation_0-rmse:0.82712\n",
      "[30]\tvalidation_0-rmse:0.82016\n",
      "[40]\tvalidation_0-rmse:0.81382\n",
      "[49]\tvalidation_0-rmse:0.80788\n"
     ]
    },
    {
     "data": {
      "text/plain": [
       "XGBRegressor(base_score=0.5, booster='gbtree', colsample_bylevel=1,\n",
       "             colsample_bynode=1, colsample_bytree=1, gamma=0, gpu_id=-1,\n",
       "             importance_type='gain', interaction_constraints='',\n",
       "             learning_rate=0.300000012, max_delta_step=0, max_depth=16,\n",
       "             min_child_weight=1, missing=nan, monotone_constraints='()',\n",
       "             n_estimators=50, n_jobs=20, num_parallel_tree=1, random_state=0,\n",
       "             reg_alpha=0, reg_lambda=1, scale_pos_weight=1, subsample=1,\n",
       "             tree_method='approx', validate_parameters=1, verbosity=None)"
      ]
     },
     "execution_count": 236,
     "metadata": {},
     "output_type": "execute_result"
    }
   ],
   "source": [
    "from xgboost.sklearn import XGBRegressor\n",
    "XGB = XGBRegressor(max_depth=16, \n",
    "                    n_estimators =50)\n",
    "\n",
    "XGB.fit(\n",
    "        long_train[cols], long_train[ratingcols],\n",
    "        eval_set=[(long_train[cols], long_train[ratingcols])],\n",
    "        early_stopping_rounds=3,\n",
    "        verbose=10)"
   ]
  },
  {
   "cell_type": "code",
   "execution_count": 237,
   "id": "031a116d",
   "metadata": {},
   "outputs": [],
   "source": [
    "test_out['pred_rating_avg_XGB'] = XGB.predict(long_test[cols])"
   ]
  },
  {
   "cell_type": "code",
   "execution_count": 238,
   "id": "2a65fe84",
   "metadata": {},
   "outputs": [
    {
     "name": "stdout",
     "output_type": "stream",
     "text": [
      "0.8046564496366857\n"
     ]
    }
   ],
   "source": [
    "print(MSE(test_out['rating'],test_out['pred_rating_avg_XGB']))"
   ]
  },
  {
   "cell_type": "code",
   "execution_count": 239,
   "id": "1deab5a5",
   "metadata": {},
   "outputs": [
    {
     "data": {
      "text/html": [
       "<div>\n",
       "<style scoped>\n",
       "    .dataframe tbody tr th:only-of-type {\n",
       "        vertical-align: middle;\n",
       "    }\n",
       "\n",
       "    .dataframe tbody tr th {\n",
       "        vertical-align: top;\n",
       "    }\n",
       "\n",
       "    .dataframe thead th {\n",
       "        text-align: right;\n",
       "    }\n",
       "</style>\n",
       "<table border=\"1\" class=\"dataframe\">\n",
       "  <thead>\n",
       "    <tr style=\"text-align: right;\">\n",
       "      <th></th>\n",
       "      <th>userId</th>\n",
       "      <th>movieId</th>\n",
       "      <th>rating</th>\n",
       "      <th>pred_rating</th>\n",
       "      <th>pred_rating_avg_500</th>\n",
       "      <th>pred_rating_avg_XGB</th>\n",
       "    </tr>\n",
       "  </thead>\n",
       "  <tbody>\n",
       "    <tr>\n",
       "      <th>0</th>\n",
       "      <td>1</td>\n",
       "      <td>296</td>\n",
       "      <td>5.0</td>\n",
       "      <td>4.203825</td>\n",
       "      <td>4.287433</td>\n",
       "      <td>4.325086</td>\n",
       "    </tr>\n",
       "    <tr>\n",
       "      <th>3</th>\n",
       "      <td>1</td>\n",
       "      <td>665</td>\n",
       "      <td>5.0</td>\n",
       "      <td>3.950197</td>\n",
       "      <td>4.208169</td>\n",
       "      <td>3.842723</td>\n",
       "    </tr>\n",
       "    <tr>\n",
       "      <th>17</th>\n",
       "      <td>1</td>\n",
       "      <td>2573</td>\n",
       "      <td>4.0</td>\n",
       "      <td>3.401111</td>\n",
       "      <td>3.632696</td>\n",
       "      <td>3.677239</td>\n",
       "    </tr>\n",
       "    <tr>\n",
       "      <th>22</th>\n",
       "      <td>1</td>\n",
       "      <td>3569</td>\n",
       "      <td>5.0</td>\n",
       "      <td>3.556726</td>\n",
       "      <td>3.863745</td>\n",
       "      <td>3.163826</td>\n",
       "    </tr>\n",
       "    <tr>\n",
       "      <th>31</th>\n",
       "      <td>1</td>\n",
       "      <td>5269</td>\n",
       "      <td>0.5</td>\n",
       "      <td>3.608674</td>\n",
       "      <td>3.919102</td>\n",
       "      <td>4.189115</td>\n",
       "    </tr>\n",
       "  </tbody>\n",
       "</table>\n",
       "</div>"
      ],
      "text/plain": [
       "    userId  movieId  rating  pred_rating  pred_rating_avg_500  \\\n",
       "0        1      296     5.0     4.203825             4.287433   \n",
       "3        1      665     5.0     3.950197             4.208169   \n",
       "17       1     2573     4.0     3.401111             3.632696   \n",
       "22       1     3569     5.0     3.556726             3.863745   \n",
       "31       1     5269     0.5     3.608674             3.919102   \n",
       "\n",
       "    pred_rating_avg_XGB  \n",
       "0              4.325086  \n",
       "3              3.842723  \n",
       "17             3.677239  \n",
       "22             3.163826  \n",
       "31             4.189115  "
      ]
     },
     "execution_count": 239,
     "metadata": {},
     "output_type": "execute_result"
    }
   ],
   "source": [
    "test_out.head()"
   ]
  },
  {
   "cell_type": "code",
   "execution_count": 240,
   "id": "60422559",
   "metadata": {},
   "outputs": [],
   "source": [
    "test_out.to_csv(base_dir+'test_out.csv')"
   ]
  },
  {
   "cell_type": "markdown",
   "id": "59ab29d0",
   "metadata": {},
   "source": [
    "Weighted mean devation:\n",
    "    if pred and rating in same mean divition:\n",
    "        err = (reating-pred)^2\n",
    "    else:\n",
    "        err = penality*(reating-pred)^2\n",
    "    err += err\n",
    "    err/n_user"
   ]
  },
  {
   "cell_type": "code",
   "execution_count": null,
   "id": "82632fc0",
   "metadata": {},
   "outputs": [],
   "source": [
    "def WMDEV(ratings, m_ref):\n",
    "    "
   ]
  }
 ],
 "metadata": {
  "kernelspec": {
   "display_name": "Python 3",
   "language": "python",
   "name": "python3"
  },
  "language_info": {
   "codemirror_mode": {
    "name": "ipython",
    "version": 3
   },
   "file_extension": ".py",
   "mimetype": "text/x-python",
   "name": "python",
   "nbconvert_exporter": "python",
   "pygments_lexer": "ipython3",
   "version": "3.6.8"
  }
 },
 "nbformat": 4,
 "nbformat_minor": 5
}
